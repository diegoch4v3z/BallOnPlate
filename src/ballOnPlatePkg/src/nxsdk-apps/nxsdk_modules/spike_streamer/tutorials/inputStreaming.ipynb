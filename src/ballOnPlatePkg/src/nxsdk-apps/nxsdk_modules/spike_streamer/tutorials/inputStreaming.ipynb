{
 "cells": [
  {
   "cell_type": "code",
   "execution_count": 1,
   "metadata": {},
   "outputs": [],
   "source": [
    "# INTEL CORPORATION CONFIDENTIAL AND PROPRIETARY\n",
    "#\n",
    "# Copyright © 2020-2021 Intel Corporation.\n",
    "#\n",
    "# This software and the related documents are Intel copyrighted\n",
    "# materials, and your use of them is governed by the express\n",
    "# license under which they were provided to you (License). Unless\n",
    "# the License provides otherwise, you may not use, modify, copy,\n",
    "# publish, distribute, disclose or transmit  this software or the\n",
    "# related documents without Intel's prior written permission.\n",
    "# \n",
    "# This software and the related documents are provided as is, with\n",
    "# no express or implied warranties, other than those that are\n",
    "# expressly stated in the License."
   ]
  },
  {
   "cell_type": "markdown",
   "metadata": {},
   "source": [
    "# Input Spike Streamer\n",
    "This tutorial shows how to use the inputSpikeStreamer, which allows a user to incrementally send spikes to Loihi as they are received from a sensor or other device (file is also possible). To use the inputSpikeStreamer, the user needs to:\n",
    " - Specify the wallclock time per Loihi timestep (useful for playing back data in real-time, such as for real-time visualization)\n",
    " - Specify the size of packets used to send spikes to Loihi (smaller means more frequent communication, but lower overall bandwidth default of 1024 should be fine for most cases)\n",
    " - Specify how many input neurons are required (similar to the number of ports on an NxSDK spike generator)\n",
    "\n",
    "The user creates the inputSpikeStreamer module with the above parameters, compiles and runs the board in \"aSync\" mode, then passes lists of spike times (when) and targets (which neuron) to the module. The module will always advance Loihi's timestep to the time of the most recent spike."
   ]
  },
  {
   "cell_type": "code",
   "execution_count": 2,
   "metadata": {},
   "outputs": [],
   "source": [
    "import numpy as np\n",
    "import nxsdk.api.n2a as nx\n",
    "from nxsdk_modules.spike_streamer.src.streaming import SpikeStreamer"
   ]
  },
  {
   "cell_type": "markdown",
   "metadata": {},
   "source": [
    "# Create the inputSpikeStreamer"
   ]
  },
  {
   "cell_type": "code",
   "execution_count": 3,
   "metadata": {},
   "outputs": [],
   "source": [
    "spikesPerPacket = 1024 # larger packets are more efficient, but add latency when very few spikes are present\n",
    "microsecondsPerTimestep = 1000 # 1ms is typical for sensor interaction, but much smaller timesteps are possible if needed\n",
    "numInputNeurons = 10 # how many input neurons?\n",
    "runTime = 10000 #10 seconds if microsecondsPerTimestep is 1000\n",
    "\n",
    "net = nx.NxNet()\n",
    "# create the spike streamer\n",
    "spikeStreamer = SpikeStreamer(net)\n",
    "spikeStreamer.setupSpikeInput(numInputNeurons, spikesPerPacket, microsecondsPerTimestep)"
   ]
  },
  {
   "cell_type": "markdown",
   "metadata": {},
   "source": [
    "# Setup your own network and connect the inputSpikeStreamer to it"
   ]
  },
  {
   "cell_type": "code",
   "execution_count": 4,
   "metadata": {},
   "outputs": [
    {
     "data": {
      "text/plain": [
       "<nxsdk.net.groups.ConnectionGroup at 0x7f6aa4585048>"
      ]
     },
     "execution_count": 4,
     "metadata": {},
     "output_type": "execute_result"
    }
   ],
   "source": [
    "# replace this with your own network\n",
    "compProto = nx.CompartmentPrototype()\n",
    "myNetwork = net.createCompartmentGroup(size=numInputNeurons, prototype=compProto)\n",
    "\n",
    "# make the connection from spikeStreamer to your network. Modify the connectivity and connection properties here\n",
    "connProto = nx.ConnectionPrototype()\n",
    "spikeStreamer.inputLayer.connect(myNetwork, connProto, connectionMask=np.identity(numInputNeurons))"
   ]
  },
  {
   "cell_type": "markdown",
   "metadata": {},
   "source": [
    "# We'll probe the input neurons to make sure they spike when expected to"
   ]
  },
  {
   "cell_type": "code",
   "execution_count": 5,
   "metadata": {},
   "outputs": [],
   "source": [
    "# we can probe the input neurons to check that they fire when expected\n",
    "sProbe = spikeStreamer.inputLayer.probe(nx.ProbeParameter.SPIKE)"
   ]
  },
  {
   "cell_type": "markdown",
   "metadata": {},
   "source": [
    "# Compile the board and setup the inputSpikeStreamer \n",
    "This configures the snips used by the inputSpikeStreamer"
   ]
  },
  {
   "cell_type": "code",
   "execution_count": 6,
   "metadata": {},
   "outputs": [
    {
     "name": "stdout",
     "output_type": "stream",
     "text": [
      "\u001b[1;30mINFO\u001b[0m:\u001b[34mDRV\u001b[0m:  SLURM is being run in background\n",
      "\u001b[1;30mINFO\u001b[0m:\u001b[34mDRV\u001b[0m:  Connecting to 134.134.68.69:36895\n",
      "\u001b[1;30mINFO\u001b[0m:\u001b[34mDRV\u001b[0m:      Host server up..............Done 0.22s\n",
      "\u001b[1;30mINFO\u001b[0m:\u001b[34mDRV\u001b[0m:      Encoding axons/synapses.....Done 3.53ms\n",
      "\u001b[1;30mINFO\u001b[0m:\u001b[34mDRV\u001b[0m:      Compiling Embedded snips....Done 0.17s\n",
      "\u001b[1;30mINFO\u001b[0m:\u001b[34mDRV\u001b[0m:      Encoding probes.............Done 0.82ms\n",
      "\u001b[1;30mINFO\u001b[0m:\u001b[34mHST\u001b[0m:  Args chip=0 cpu=0 /home/gorchard/nxsdk-nxsdk/nxsdk/driver/compilers/../../../temp/1583951584.6822233/launcher_chip0_lmt0.bin --chips=1 --remote-relay=0 --epoch=0 \n",
      "\u001b[1;30mINFO\u001b[0m:\u001b[34mHST\u001b[0m:  Args chip=1 cpu=0 /home/gorchard/nxsdk-nxsdk/nxsdk/driver/../bin/arm/inactive_chips.bin --chips=1 --remote-relay=0 --epoch=0 \n",
      "\u001b[1;30mINFO\u001b[0m:\u001b[34mHST\u001b[0m:  Args chip=2 cpu=0 /home/gorchard/nxsdk-nxsdk/nxsdk/driver/../bin/arm/inactive_chips.bin --chips=1 --remote-relay=0 --epoch=0 \n",
      "\u001b[1;30mINFO\u001b[0m:\u001b[34mHST\u001b[0m:  Args chip=3 cpu=0 /home/gorchard/nxsdk-nxsdk/nxsdk/driver/../bin/arm/inactive_chips.bin --chips=1 --remote-relay=0 --epoch=0 \n",
      "\u001b[1;30mINFO\u001b[0m:\u001b[34mHST\u001b[0m:  Args chip=4 cpu=0 /home/gorchard/nxsdk-nxsdk/nxsdk/driver/../bin/arm/inactive_chips.bin --chips=1 --remote-relay=0 --epoch=0 \n",
      "\u001b[1;30mINFO\u001b[0m:\u001b[34mHST\u001b[0m:  Args chip=5 cpu=0 /home/gorchard/nxsdk-nxsdk/nxsdk/driver/../bin/arm/inactive_chips.bin --chips=1 --remote-relay=0 --epoch=0 \n",
      "\u001b[1;30mINFO\u001b[0m:\u001b[34mHST\u001b[0m:  Args chip=6 cpu=0 /home/gorchard/nxsdk-nxsdk/nxsdk/driver/../bin/arm/inactive_chips.bin --chips=1 --remote-relay=0 --epoch=0 \n",
      "\u001b[1;30mINFO\u001b[0m:\u001b[34mHST\u001b[0m:  Args chip=7 cpu=0 /home/gorchard/nxsdk-nxsdk/nxsdk/driver/../bin/arm/inactive_chips.bin --chips=1 --remote-relay=0 --epoch=0 \n",
      "\u001b[1;30mINFO\u001b[0m:\u001b[34mHST\u001b[0m:  Args chip=8 cpu=0 /home/gorchard/nxsdk-nxsdk/nxsdk/driver/../bin/arm/inactive_chips.bin --chips=1 --remote-relay=0 --epoch=0 \n",
      "\u001b[1;30mINFO\u001b[0m:\u001b[34mHST\u001b[0m:  Args chip=9 cpu=0 /home/gorchard/nxsdk-nxsdk/nxsdk/driver/../bin/arm/inactive_chips.bin --chips=1 --remote-relay=0 --epoch=0 \n",
      "\u001b[1;30mINFO\u001b[0m:\u001b[34mHST\u001b[0m:  Args chip=10 cpu=0 /home/gorchard/nxsdk-nxsdk/nxsdk/driver/../bin/arm/inactive_chips.bin --chips=1 --remote-relay=0 --epoch=0 \n",
      "\u001b[1;30mINFO\u001b[0m:\u001b[34mHST\u001b[0m:  Args chip=11 cpu=0 /home/gorchard/nxsdk-nxsdk/nxsdk/driver/../bin/arm/inactive_chips.bin --chips=1 --remote-relay=0 --epoch=0 \n",
      "\u001b[1;30mINFO\u001b[0m:\u001b[34mHST\u001b[0m:  Args chip=12 cpu=0 /home/gorchard/nxsdk-nxsdk/nxsdk/driver/../bin/arm/inactive_chips.bin --chips=1 --remote-relay=0 --epoch=0 \n",
      "\u001b[1;30mINFO\u001b[0m:\u001b[34mHST\u001b[0m:  Args chip=13 cpu=0 /home/gorchard/nxsdk-nxsdk/nxsdk/driver/../bin/arm/inactive_chips.bin --chips=1 --remote-relay=0 --epoch=0 \n",
      "\u001b[1;30mINFO\u001b[0m:\u001b[34mHST\u001b[0m:  Args chip=14 cpu=0 /home/gorchard/nxsdk-nxsdk/nxsdk/driver/../bin/arm/inactive_chips.bin --chips=1 --remote-relay=0 --epoch=0 \n",
      "\u001b[1;30mINFO\u001b[0m:\u001b[34mHST\u001b[0m:  Args chip=15 cpu=0 /home/gorchard/nxsdk-nxsdk/nxsdk/driver/../bin/arm/inactive_chips.bin --chips=1 --remote-relay=0 --epoch=0 \n",
      "\u001b[1;30mINFO\u001b[0m:\u001b[34mHST\u001b[0m:  Args chip=16 cpu=0 /home/gorchard/nxsdk-nxsdk/nxsdk/driver/../bin/arm/inactive_chips.bin --chips=1 --remote-relay=0 --epoch=0 \n",
      "\u001b[1;30mINFO\u001b[0m:\u001b[34mHST\u001b[0m:  Args chip=17 cpu=0 /home/gorchard/nxsdk-nxsdk/nxsdk/driver/../bin/arm/inactive_chips.bin --chips=1 --remote-relay=0 --epoch=0 \n",
      "\u001b[1;30mINFO\u001b[0m:\u001b[34mHST\u001b[0m:  Args chip=18 cpu=0 /home/gorchard/nxsdk-nxsdk/nxsdk/driver/../bin/arm/inactive_chips.bin --chips=1 --remote-relay=0 --epoch=0 \n",
      "\u001b[1;30mINFO\u001b[0m:\u001b[34mHST\u001b[0m:  Args chip=19 cpu=0 /home/gorchard/nxsdk-nxsdk/nxsdk/driver/../bin/arm/inactive_chips.bin --chips=1 --remote-relay=0 --epoch=0 \n",
      "\u001b[1;30mINFO\u001b[0m:\u001b[34mHST\u001b[0m:  Args chip=20 cpu=0 /home/gorchard/nxsdk-nxsdk/nxsdk/driver/../bin/arm/inactive_chips.bin --chips=1 --remote-relay=0 --epoch=0 \n",
      "\u001b[1;30mINFO\u001b[0m:\u001b[34mHST\u001b[0m:  Args chip=21 cpu=0 /home/gorchard/nxsdk-nxsdk/nxsdk/driver/../bin/arm/inactive_chips.bin --chips=1 --remote-relay=0 --epoch=0 \n",
      "\u001b[1;30mINFO\u001b[0m:\u001b[34mHST\u001b[0m:  Args chip=22 cpu=0 /home/gorchard/nxsdk-nxsdk/nxsdk/driver/../bin/arm/inactive_chips.bin --chips=1 --remote-relay=0 --epoch=0 \n",
      "\u001b[1;30mINFO\u001b[0m:\u001b[34mHST\u001b[0m:  Args chip=23 cpu=0 /home/gorchard/nxsdk-nxsdk/nxsdk/driver/../bin/arm/inactive_chips.bin --chips=1 --remote-relay=0 --epoch=0 \n",
      "\u001b[1;30mINFO\u001b[0m:\u001b[34mHST\u001b[0m:  Args chip=24 cpu=0 /home/gorchard/nxsdk-nxsdk/nxsdk/driver/../bin/arm/inactive_chips.bin --chips=1 --remote-relay=0 --epoch=0 \n",
      "\u001b[1;30mINFO\u001b[0m:\u001b[34mHST\u001b[0m:  Args chip=25 cpu=0 /home/gorchard/nxsdk-nxsdk/nxsdk/driver/../bin/arm/inactive_chips.bin --chips=1 --remote-relay=0 --epoch=0 \n",
      "\u001b[1;30mINFO\u001b[0m:\u001b[34mHST\u001b[0m:  Args chip=26 cpu=0 /home/gorchard/nxsdk-nxsdk/nxsdk/driver/../bin/arm/inactive_chips.bin --chips=1 --remote-relay=0 --epoch=0 \n",
      "\u001b[1;30mINFO\u001b[0m:\u001b[34mHST\u001b[0m:  Args chip=27 cpu=0 /home/gorchard/nxsdk-nxsdk/nxsdk/driver/../bin/arm/inactive_chips.bin --chips=1 --remote-relay=0 --epoch=0 \n",
      "\u001b[1;30mINFO\u001b[0m:\u001b[34mHST\u001b[0m:  Args chip=28 cpu=0 /home/gorchard/nxsdk-nxsdk/nxsdk/driver/../bin/arm/inactive_chips.bin --chips=1 --remote-relay=0 --epoch=0 \n",
      "\u001b[1;30mINFO\u001b[0m:\u001b[34mHST\u001b[0m:  Args chip=29 cpu=0 /home/gorchard/nxsdk-nxsdk/nxsdk/driver/../bin/arm/inactive_chips.bin --chips=1 --remote-relay=0 --epoch=0 \n",
      "\u001b[1;30mINFO\u001b[0m:\u001b[34mHST\u001b[0m:  Args chip=30 cpu=0 /home/gorchard/nxsdk-nxsdk/nxsdk/driver/../bin/arm/inactive_chips.bin --chips=1 --remote-relay=0 --epoch=0 \n",
      "\u001b[1;30mINFO\u001b[0m:\u001b[34mHST\u001b[0m:  Args chip=31 cpu=0 /home/gorchard/nxsdk-nxsdk/nxsdk/driver/../bin/arm/inactive_chips.bin --chips=1 --remote-relay=0 --epoch=0 \n",
      "\u001b[1;30mINFO\u001b[0m:\u001b[34mHST\u001b[0m:  Lakemont_driver...\n",
      "\u001b[1;30mINFO\u001b[0m:\u001b[34mHST\u001b[0m:  chip=1 cpu=0 halted, status=0x0\n",
      "\u001b[1;30mINFO\u001b[0m:\u001b[34mHST\u001b[0m:  chip=2 cpu=0 halted, status=0x0\n",
      "\u001b[1;30mINFO\u001b[0m:\u001b[34mHST\u001b[0m:  chip=3 cpu=0 halted, status=0x0\n",
      "\u001b[1;30mINFO\u001b[0m:\u001b[34mHST\u001b[0m:  chip=4 cpu=0 halted, status=0x0\n",
      "\u001b[1;30mINFO\u001b[0m:\u001b[34mHST\u001b[0m:  chip=5 cpu=0 halted, status=0x0\n",
      "\u001b[1;30mINFO\u001b[0m:\u001b[34mHST\u001b[0m:  chip=6 cpu=0 halted, status=0x0\n",
      "\u001b[1;30mINFO\u001b[0m:\u001b[34mHST\u001b[0m:  chip=7 cpu=0 halted, status=0x0\n",
      "\u001b[1;30mINFO\u001b[0m:\u001b[34mHST\u001b[0m:  chip=8 cpu=0 halted, status=0x0\n",
      "\u001b[1;30mINFO\u001b[0m:\u001b[34mDRV\u001b[0m:      Booting up..................Done 8.85s\n",
      "\u001b[1;30mINFO\u001b[0m:\u001b[34mHST\u001b[0m:  chip=9 cpu=0 halted, status=0x0\n",
      "\u001b[1;30mINFO\u001b[0m:\u001b[34mHST\u001b[0m:  chip=10 cpu=0 halted, status=0x0\n",
      "\u001b[1;30mINFO\u001b[0m:\u001b[34mHST\u001b[0m:  chip=11 cpu=0 halted, status=0x0\n",
      "\u001b[1;30mINFO\u001b[0m:\u001b[34mDRV\u001b[0m:      Configuring registers.......Done 5.47ms\n",
      "\u001b[1;30mINFO\u001b[0m:\u001b[34mHST\u001b[0m:  chip=12 cpu=0 halted, status=0x0\n",
      "\u001b[1;30mINFO\u001b[0m:\u001b[34mDRV\u001b[0m:      Transferring spikes.........Done 0.61ms\n",
      "\u001b[1;30mINFO\u001b[0m:\u001b[34mHST\u001b[0m:  chip=13 cpu=0 halted, status=0x0\n",
      "\u001b[1;30mINFO\u001b[0m:\u001b[34mHST\u001b[0m:  chip=14 cpu=0 halted, status=0x0\n",
      "\u001b[1;30mINFO\u001b[0m:\u001b[34mHST\u001b[0m:  chip=15 cpu=0 halted, status=0x0\n",
      "\u001b[1;30mINFO\u001b[0m:\u001b[34mHST\u001b[0m:  chip=16 cpu=0 halted, status=0x0\n",
      "\u001b[1;30mINFO\u001b[0m:\u001b[34mHST\u001b[0m:  chip=17 cpu=0 halted, status=0x0\n",
      "\u001b[1;30mINFO\u001b[0m:\u001b[34mHST\u001b[0m:  chip=18 cpu=0 halted, status=0x0\n",
      "\u001b[1;30mINFO\u001b[0m:\u001b[34mHST\u001b[0m:  chip=19 cpu=0 halted, status=0x0\n",
      "\u001b[1;30mINFO\u001b[0m:\u001b[34mHST\u001b[0m:  chip=20 cpu=0 halted, status=0x0\n",
      "\u001b[1;30mINFO\u001b[0m:\u001b[34mDRV\u001b[0m:      Transferring probes.........Done 5.76ms\n",
      "\u001b[1;30mINFO\u001b[0m:\u001b[34mHST\u001b[0m:  chip=21 cpu=0 halted, status=0x0\n",
      "\u001b[1;30mINFO\u001b[0m:\u001b[34mHST\u001b[0m:  chip=22 cpu=0 halted, status=0x0\n",
      "\u001b[1;30mINFO\u001b[0m:\u001b[34mHST\u001b[0m:  chip=23 cpu=0 halted, status=0x0\n",
      "\u001b[1;30mINFO\u001b[0m:\u001b[34mHST\u001b[0m:  chip=24 cpu=0 halted, status=0x0\n",
      "\u001b[1;30mINFO\u001b[0m:\u001b[34mHST\u001b[0m:  chip=25 cpu=0 halted, status=0x0\n",
      "\u001b[1;30mINFO\u001b[0m:\u001b[34mHST\u001b[0m:  chip=26 cpu=0 halted, status=0x0\n",
      "\u001b[1;30mINFO\u001b[0m:\u001b[34mHST\u001b[0m:  chip=27 cpu=0 halted, status=0x0\n"
     ]
    }
   ],
   "source": [
    "# compile the board\n",
    "compiler = nx.N2Compiler()\n",
    "board = compiler.compile(net)\n",
    "spikeStreamer.configureStreamer(board)\n",
    "board.run(runTime, aSync=True)"
   ]
  },
  {
   "cell_type": "code",
   "execution_count": 7,
   "metadata": {},
   "outputs": [
    {
     "name": "stdout",
     "output_type": "stream",
     "text": [
      "\u001b[1;30mINFO\u001b[0m:\u001b[34mHST\u001b[0m:  chip=28 cpu=0 halted, status=0x0\n",
      "\u001b[1;30mINFO\u001b[0m:\u001b[34mHST\u001b[0m:  chip=29 cpu=0 halted, status=0x0\n",
      "\u001b[1;30mINFO\u001b[0m:\u001b[34mHST\u001b[0m:  chip=30 cpu=0 halted, status=0x0\n",
      "\u001b[1;30mINFO\u001b[0m:\u001b[34mHST\u001b[0m:  chip=31 cpu=0 halted, status=0x0\n"
     ]
    }
   ],
   "source": [
    "# Send the spike data\n",
    "\"\"\"\n",
    "# for a real-time demo, this would look something like:\n",
    "while(True): #some condition to determine when the demo has ended\n",
    "    spikeTimes, spikeTargets = getSpikesFromSkin()\n",
    "    spikeStreamer.sendSpikes(spikeTargets, spikeTimes)\n",
    "\"\"\"\n",
    "\n",
    "# For this artificial test, we'll fake some spike data. \n",
    "# The rest of this code block randomly generates spikes and sends them to Loihi in chunks (once per iteration of the for-loop)\n",
    "maxSpikesPerPacket = 500 # only used for our test/artificial spike generation. In real-time demo the number of spikes isn't limited\n",
    "numSendIterations = 10 # lets assume we send spikes 10 different times.\n",
    "minTime = 0\n",
    "\n",
    "# initialize variables to keep track of all the spike targets and times we randomly generate\n",
    "allTimes = np.zeros((0,), dtype=int)\n",
    "allTargets = np.zeros((0,), dtype=int)\n",
    "\n",
    "for ii in range(numSendIterations):\n",
    "    # what is the maximum spike time for this iteration?\n",
    "    # spikes must be sent in chronological order\n",
    "    maxTime = (ii+1)*runTime//numSendIterations\n",
    "    \n",
    "    # initialize a variable to hold the spikes\n",
    "    spikes = np.zeros((maxSpikesPerPacket,2), dtype=int)\n",
    "    # randomly generate spike targets (which neuron)\n",
    "    spikes[:,0] = np.random.randint(0, numInputNeurons, size=(maxSpikesPerPacket,), dtype=int)\n",
    "    # randomly generate spike times (which neuron)\n",
    "    spikes[:,1] = np.random.randint(minTime, maxTime, size=(maxSpikesPerPacket,), dtype=int)\n",
    "    # remove redundant spikes (spike that target the same neuron at the same time)\n",
    "    spikes = np.unique(spikes, axis=0) # we only want 1 spike per neuron per timestep\n",
    "    # update the time from which the next chunk of spikes should start\n",
    "    minTime = maxTime\n",
    "    \n",
    "    # sort the the spikes into chronological order (column 1, time, must be increasing)\n",
    "    spikes = spikes[spikes[:,1].argsort(), :]\n",
    "\n",
    "    # send the spikes\n",
    "    spikeStreamer.sendSpikes(spikes[:,0], spikes[:,1])\n",
    "    \n",
    "    # record the spikes so we can verify them later against probes\n",
    "    allTimes = np.concatenate((allTimes, spikes[:,1]))\n",
    "    allTargets = np.concatenate((allTargets, spikes[:,0]))\n"
   ]
  },
  {
   "cell_type": "code",
   "execution_count": 8,
   "metadata": {},
   "outputs": [],
   "source": [
    "# at any point, \"flushSpikes\" can be called to flush any buffered spikes to the chip\n",
    "#spikeInputStreamer.flushSpikes()"
   ]
  },
  {
   "cell_type": "code",
   "execution_count": 9,
   "metadata": {},
   "outputs": [],
   "source": [
    "# before finishing the run, make sure to advance the chip time to the end of the run\n",
    "spikeStreamer.advanceTime(runTime)"
   ]
  },
  {
   "cell_type": "code",
   "execution_count": 10,
   "metadata": {},
   "outputs": [
    {
     "name": "stdout",
     "output_type": "stream",
     "text": [
      "\u001b[1;30mINFO\u001b[0m:\u001b[34mDRV\u001b[0m:      Executing...................Done 1.72s\n",
      "\u001b[1;30mINFO\u001b[0m:\u001b[34mDRV\u001b[0m:      Processing timeseries.......Done 0.04s\n",
      "\u001b[1;30mINFO\u001b[0m:\u001b[34mHST\u001b[0m:  chip=0 cpu=0 halted, status=0x0\n"
     ]
    }
   ],
   "source": [
    "board.finishRun()\n",
    "board.disconnect()"
   ]
  },
  {
   "cell_type": "code",
   "execution_count": 11,
   "metadata": {},
   "outputs": [
    {
     "name": "stdout",
     "output_type": "stream",
     "text": [
      "Success!!!\n"
     ]
    }
   ],
   "source": [
    "# check that the spikes received from probes match the spikes we injected\n",
    "\n",
    "# there will be a 1 timestep offset between injecting a spike and seeing it in the spike probe\n",
    "timeOffset = 1\n",
    "\n",
    "# spikes that are inject on the last timestep will not appear before the end of the run, so remove them\n",
    "# (they would appear only if we ran the chip for an extra timestep)\n",
    "allTargets = allTargets[allTimes+timeOffset<runTime]\n",
    "allTimes = allTimes[allTimes+timeOffset<runTime]\n",
    "\n",
    "# check that the data matches exactly\n",
    "for ii in range(numInputNeurons):\n",
    "    assert np.sum(np.abs(np.array(sProbe[0][ii].data).nonzero()[0] - (allTimes[allTargets==ii]+timeOffset))) == 0, \"error, spike mismatch\"\n",
    "print(\"Success!!!\")"
   ]
  }
 ],
 "metadata": {
  "kernelspec": {
   "display_name": "Python 3",
   "language": "python",
   "name": "python3"
  },
  "language_info": {
   "codemirror_mode": {
    "name": "ipython",
    "version": 3
   },
   "file_extension": ".py",
   "mimetype": "text/x-python",
   "name": "python",
   "nbconvert_exporter": "python",
   "pygments_lexer": "ipython3",
   "version": "3.5.2"
  }
 },
 "nbformat": 4,
 "nbformat_minor": 4
}
