{
 "cells": [
  {
   "cell_type": "code",
   "execution_count": 1,
   "metadata": {},
   "outputs": [],
   "source": [
    "# INTEL CORPORATION CONFIDENTIAL AND PROPRIETARY\n",
    "#\n",
    "# Copyright © 2020-2021 Intel Corporation.\n",
    "#\n",
    "# This software and the related documents are Intel copyrighted\n",
    "# materials, and your use of them is governed by the express\n",
    "# license under which they were provided to you (License). Unless\n",
    "# the License provides otherwise, you may not use, modify, copy,\n",
    "# publish, distribute, disclose or transmit  this software or the\n",
    "# related documents without Intel's prior written permission.\n",
    "# \n",
    "# This software and the related documents are provided as is, with\n",
    "# no express or implied warranties, other than those that are\n",
    "# expressly stated in the License."
   ]
  },
  {
   "cell_type": "markdown",
   "metadata": {},
   "source": [
    "# Output Spike Streamer\n",
    "This tutorial shows how to use the outputSpikeStreamer and builds on the inputSpikeStreamer tutorial. \n",
    "\n",
    "The outputSpikeStreamer returns accumulated spike counts from a group of output neurons at a user specified interval. To use the outputSpikeStreamer, the user needs to:\n",
    " - Specify the interval at which to report accumulated spike counts (high intervals mean less off-chip communication, resulting in higher speed)\n",
    " - Specify which output neurons to monitor for spikes.\n",
    "\n",
    "This tutorial will have 3 parts:\n",
    " - an inputSpikeStreamer to send spikes to Loihi\n",
    " - an identity connection between the inputSpikeStreamer and a second group of neurons\n",
    " - an outputSpikeStreamer monitoring and reporting output spikes form the second group of neurons "
   ]
  },
  {
   "cell_type": "code",
   "execution_count": 2,
   "metadata": {},
   "outputs": [],
   "source": [
    "import numpy as np\n",
    "import nxsdk.api.n2a as nx\n",
    "from nxsdk_modules.spike_streamer.src.streaming import SpikeStreamer"
   ]
  },
  {
   "cell_type": "markdown",
   "metadata": {},
   "source": [
    "# Create the SpikeStreamer"
   ]
  },
  {
   "cell_type": "code",
   "execution_count": 3,
   "metadata": {},
   "outputs": [],
   "source": [
    "spikesPerPacket = 1024 # larger packets are more efficient, but add latency when very few spikes are present\n",
    "microsecondsPerTimestep = 1000 # 1ms is typical for sensor interaction, but much smaller timesteps are possible if needed\n",
    "numInputNeurons = 10 # how many input neurons?\n",
    "runTime = 1000 #10 seconds if microsecondsPerTimestep is 1000\n",
    "\n",
    "net = nx.NxNet()\n",
    "# create the spike streamer\n",
    "spikeStreamer = SpikeStreamer(net)\n",
    "spikeStreamer.setupSpikeInput(numInputNeurons, spikesPerPacket, microsecondsPerTimestep)"
   ]
  },
  {
   "cell_type": "markdown",
   "metadata": {},
   "source": [
    "# Setup some output neurons for use with the SpikeStreamer\n",
    "We'll just create a one-to-one connection from input to output (identity)"
   ]
  },
  {
   "cell_type": "code",
   "execution_count": 4,
   "metadata": {},
   "outputs": [
    {
     "data": {
      "text/plain": [
       "<nxsdk.net.groups.ConnectionGroup at 0x7f4c991dd8d0>"
      ]
     },
     "execution_count": 4,
     "metadata": {},
     "output_type": "execute_result"
    }
   ],
   "source": [
    "# replace this with your own network\n",
    "compProto = nx.CompartmentPrototype(vThMant=1,\n",
    "                                    compartmentVoltageDecay = 4095,\n",
    "                                    compartmentCurrentDecay = 4095)\n",
    "myNetwork = net.createCompartmentGroup(size=numInputNeurons, prototype=compProto)\n",
    "\n",
    "# make the connection from spikeStreamer to your network. Modify the connectivity and connection properties here\n",
    "connProto = nx.ConnectionPrototype(weight=2)\n",
    "spikeStreamer.inputLayer.connect(myNetwork, prototype=connProto, connectionMask=np.identity(numInputNeurons))"
   ]
  },
  {
   "cell_type": "markdown",
   "metadata": {},
   "source": [
    "# Create the outputSpikeStreamer\n"
   ]
  },
  {
   "cell_type": "code",
   "execution_count": 5,
   "metadata": {},
   "outputs": [],
   "source": [
    "accumulationInterval = 100 # report spike counts after every 100 Loihi timesteps\n",
    "spikeStreamer.setupSpikeOutput(myNetwork, accumulationInterval)"
   ]
  },
  {
   "cell_type": "markdown",
   "metadata": {},
   "source": [
    "# Compile the board and setup the inputSpikeStreamer and outputSpikeStreamer\n",
    "This configures the snips used by the inputSpikeStreamer and outputSpikeStreamer"
   ]
  },
  {
   "cell_type": "code",
   "execution_count": 6,
   "metadata": {},
   "outputs": [
    {
     "name": "stdout",
     "output_type": "stream",
     "text": [
      "\u001b[1;30mINFO\u001b[0m:\u001b[34mDRV\u001b[0m:  SLURM is being run in background\n",
      "\u001b[1;30mINFO\u001b[0m:\u001b[34mDRV\u001b[0m:  Connecting to 134.134.68.69:46387\n",
      "\u001b[1;30mINFO\u001b[0m:\u001b[34mDRV\u001b[0m:      Host server up..............Done 0.18s\n",
      "\u001b[1;30mINFO\u001b[0m:\u001b[34mDRV\u001b[0m:      Compiling Embedded snips....Done 0.53s\n",
      "\u001b[1;30mINFO\u001b[0m:\u001b[34mDRV\u001b[0m:      Encoding axons/synapses.....Done 6.60ms\n",
      "\u001b[1;30mINFO\u001b[0m:\u001b[34mDRV\u001b[0m:      Encoding probes.............Done 0.77ms\n",
      "\u001b[1;30mINFO\u001b[0m:\u001b[34mHST\u001b[0m:  Args chip=0 cpu=0 /home/gorchard/nxsdk-nxsdk/nxsdk/driver/compilers/../../../temp/1583951613.5867388/launcher_chip0_lmt0.bin --chips=1 --remote-relay=0 --epoch=0 \n",
      "\u001b[1;30mINFO\u001b[0m:\u001b[34mHST\u001b[0m:  Args chip=1 cpu=0 /home/gorchard/nxsdk-nxsdk/nxsdk/driver/../bin/arm/inactive_chips.bin --chips=1 --remote-relay=0 --epoch=0 \n",
      "\u001b[1;30mINFO\u001b[0m:\u001b[34mHST\u001b[0m:  Args chip=2 cpu=0 /home/gorchard/nxsdk-nxsdk/nxsdk/driver/../bin/arm/inactive_chips.bin --chips=1 --remote-relay=0 --epoch=0 \n",
      "\u001b[1;30mINFO\u001b[0m:\u001b[34mHST\u001b[0m:  Args chip=3 cpu=0 /home/gorchard/nxsdk-nxsdk/nxsdk/driver/../bin/arm/inactive_chips.bin --chips=1 --remote-relay=0 --epoch=0 \n",
      "\u001b[1;30mINFO\u001b[0m:\u001b[34mHST\u001b[0m:  Args chip=4 cpu=0 /home/gorchard/nxsdk-nxsdk/nxsdk/driver/../bin/arm/inactive_chips.bin --chips=1 --remote-relay=0 --epoch=0 \n",
      "\u001b[1;30mINFO\u001b[0m:\u001b[34mHST\u001b[0m:  Args chip=5 cpu=0 /home/gorchard/nxsdk-nxsdk/nxsdk/driver/../bin/arm/inactive_chips.bin --chips=1 --remote-relay=0 --epoch=0 \n",
      "\u001b[1;30mINFO\u001b[0m:\u001b[34mHST\u001b[0m:  Args chip=6 cpu=0 /home/gorchard/nxsdk-nxsdk/nxsdk/driver/../bin/arm/inactive_chips.bin --chips=1 --remote-relay=0 --epoch=0 \n",
      "\u001b[1;30mINFO\u001b[0m:\u001b[34mHST\u001b[0m:  Args chip=7 cpu=0 /home/gorchard/nxsdk-nxsdk/nxsdk/driver/../bin/arm/inactive_chips.bin --chips=1 --remote-relay=0 --epoch=0 \n",
      "\u001b[1;30mINFO\u001b[0m:\u001b[34mHST\u001b[0m:  Args chip=8 cpu=0 /home/gorchard/nxsdk-nxsdk/nxsdk/driver/../bin/arm/inactive_chips.bin --chips=1 --remote-relay=0 --epoch=0 \n",
      "\u001b[1;30mINFO\u001b[0m:\u001b[34mHST\u001b[0m:  Args chip=9 cpu=0 /home/gorchard/nxsdk-nxsdk/nxsdk/driver/../bin/arm/inactive_chips.bin --chips=1 --remote-relay=0 --epoch=0 \n",
      "\u001b[1;30mINFO\u001b[0m:\u001b[34mHST\u001b[0m:  Args chip=10 cpu=0 /home/gorchard/nxsdk-nxsdk/nxsdk/driver/../bin/arm/inactive_chips.bin --chips=1 --remote-relay=0 --epoch=0 \n",
      "\u001b[1;30mINFO\u001b[0m:\u001b[34mHST\u001b[0m:  Args chip=11 cpu=0 /home/gorchard/nxsdk-nxsdk/nxsdk/driver/../bin/arm/inactive_chips.bin --chips=1 --remote-relay=0 --epoch=0 \n",
      "\u001b[1;30mINFO\u001b[0m:\u001b[34mHST\u001b[0m:  Args chip=12 cpu=0 /home/gorchard/nxsdk-nxsdk/nxsdk/driver/../bin/arm/inactive_chips.bin --chips=1 --remote-relay=0 --epoch=0 \n",
      "\u001b[1;30mINFO\u001b[0m:\u001b[34mHST\u001b[0m:  Args chip=13 cpu=0 /home/gorchard/nxsdk-nxsdk/nxsdk/driver/../bin/arm/inactive_chips.bin --chips=1 --remote-relay=0 --epoch=0 \n",
      "\u001b[1;30mINFO\u001b[0m:\u001b[34mHST\u001b[0m:  Args chip=14 cpu=0 /home/gorchard/nxsdk-nxsdk/nxsdk/driver/../bin/arm/inactive_chips.bin --chips=1 --remote-relay=0 --epoch=0 \n",
      "\u001b[1;30mINFO\u001b[0m:\u001b[34mHST\u001b[0m:  Args chip=15 cpu=0 /home/gorchard/nxsdk-nxsdk/nxsdk/driver/../bin/arm/inactive_chips.bin --chips=1 --remote-relay=0 --epoch=0 \n",
      "\u001b[1;30mINFO\u001b[0m:\u001b[34mHST\u001b[0m:  Args chip=16 cpu=0 /home/gorchard/nxsdk-nxsdk/nxsdk/driver/../bin/arm/inactive_chips.bin --chips=1 --remote-relay=0 --epoch=0 \n",
      "\u001b[1;30mINFO\u001b[0m:\u001b[34mHST\u001b[0m:  Args chip=17 cpu=0 /home/gorchard/nxsdk-nxsdk/nxsdk/driver/../bin/arm/inactive_chips.bin --chips=1 --remote-relay=0 --epoch=0 \n",
      "\u001b[1;30mINFO\u001b[0m:\u001b[34mHST\u001b[0m:  Args chip=18 cpu=0 /home/gorchard/nxsdk-nxsdk/nxsdk/driver/../bin/arm/inactive_chips.bin --chips=1 --remote-relay=0 --epoch=0 \n",
      "\u001b[1;30mINFO\u001b[0m:\u001b[34mHST\u001b[0m:  Args chip=19 cpu=0 /home/gorchard/nxsdk-nxsdk/nxsdk/driver/../bin/arm/inactive_chips.bin --chips=1 --remote-relay=0 --epoch=0 \n",
      "\u001b[1;30mINFO\u001b[0m:\u001b[34mHST\u001b[0m:  Args chip=20 cpu=0 /home/gorchard/nxsdk-nxsdk/nxsdk/driver/../bin/arm/inactive_chips.bin --chips=1 --remote-relay=0 --epoch=0 \n",
      "\u001b[1;30mINFO\u001b[0m:\u001b[34mHST\u001b[0m:  Args chip=21 cpu=0 /home/gorchard/nxsdk-nxsdk/nxsdk/driver/../bin/arm/inactive_chips.bin --chips=1 --remote-relay=0 --epoch=0 \n",
      "\u001b[1;30mINFO\u001b[0m:\u001b[34mHST\u001b[0m:  Args chip=22 cpu=0 /home/gorchard/nxsdk-nxsdk/nxsdk/driver/../bin/arm/inactive_chips.bin --chips=1 --remote-relay=0 --epoch=0 \n",
      "\u001b[1;30mINFO\u001b[0m:\u001b[34mHST\u001b[0m:  Args chip=23 cpu=0 /home/gorchard/nxsdk-nxsdk/nxsdk/driver/../bin/arm/inactive_chips.bin --chips=1 --remote-relay=0 --epoch=0 \n",
      "\u001b[1;30mINFO\u001b[0m:\u001b[34mHST\u001b[0m:  Args chip=24 cpu=0 /home/gorchard/nxsdk-nxsdk/nxsdk/driver/../bin/arm/inactive_chips.bin --chips=1 --remote-relay=0 --epoch=0 \n",
      "\u001b[1;30mINFO\u001b[0m:\u001b[34mHST\u001b[0m:  Args chip=25 cpu=0 /home/gorchard/nxsdk-nxsdk/nxsdk/driver/../bin/arm/inactive_chips.bin --chips=1 --remote-relay=0 --epoch=0 \n",
      "\u001b[1;30mINFO\u001b[0m:\u001b[34mHST\u001b[0m:  Args chip=26 cpu=0 /home/gorchard/nxsdk-nxsdk/nxsdk/driver/../bin/arm/inactive_chips.bin --chips=1 --remote-relay=0 --epoch=0 \n",
      "\u001b[1;30mINFO\u001b[0m:\u001b[34mHST\u001b[0m:  Args chip=27 cpu=0 /home/gorchard/nxsdk-nxsdk/nxsdk/driver/../bin/arm/inactive_chips.bin --chips=1 --remote-relay=0 --epoch=0 \n",
      "\u001b[1;30mINFO\u001b[0m:\u001b[34mHST\u001b[0m:  Args chip=28 cpu=0 /home/gorchard/nxsdk-nxsdk/nxsdk/driver/../bin/arm/inactive_chips.bin --chips=1 --remote-relay=0 --epoch=0 \n",
      "\u001b[1;30mINFO\u001b[0m:\u001b[34mHST\u001b[0m:  Args chip=29 cpu=0 /home/gorchard/nxsdk-nxsdk/nxsdk/driver/../bin/arm/inactive_chips.bin --chips=1 --remote-relay=0 --epoch=0 \n",
      "\u001b[1;30mINFO\u001b[0m:\u001b[34mHST\u001b[0m:  Args chip=30 cpu=0 /home/gorchard/nxsdk-nxsdk/nxsdk/driver/../bin/arm/inactive_chips.bin --chips=1 --remote-relay=0 --epoch=0 \n",
      "\u001b[1;30mINFO\u001b[0m:\u001b[34mHST\u001b[0m:  Args chip=31 cpu=0 /home/gorchard/nxsdk-nxsdk/nxsdk/driver/../bin/arm/inactive_chips.bin --chips=1 --remote-relay=0 --epoch=0 \n",
      "\u001b[1;30mINFO\u001b[0m:\u001b[34mHST\u001b[0m:  Lakemont_driver...\n",
      "\u001b[1;30mINFO\u001b[0m:\u001b[34mHST\u001b[0m:  chip=1 cpu=0 halted, status=0x0\n",
      "\u001b[1;30mINFO\u001b[0m:\u001b[34mDRV\u001b[0m:      Booting up..................Done 8.84s\n",
      "\u001b[1;30mINFO\u001b[0m:\u001b[34mDRV\u001b[0m:      Transferring probes.........Done 4.12ms\n",
      "\u001b[1;30mINFO\u001b[0m:\u001b[34mDRV\u001b[0m:      Configuring registers.......Done 4.64ms\n",
      "\u001b[1;30mINFO\u001b[0m:\u001b[34mDRV\u001b[0m:      Transferring spikes.........Done 0.61ms\n"
     ]
    }
   ],
   "source": [
    "# compile the board\n",
    "compiler = nx.N2Compiler()\n",
    "board = compiler.compile(net)\n",
    "spikeStreamer.configureStreamer(board)\n",
    "board.run(runTime, aSync=True)"
   ]
  },
  {
   "cell_type": "code",
   "execution_count": 7,
   "metadata": {},
   "outputs": [
    {
     "name": "stdout",
     "output_type": "stream",
     "text": [
      "\u001b[1;30mINFO\u001b[0m:\u001b[34mHST\u001b[0m:  chip=2 cpu=0 halted, status=0x0\n",
      "\u001b[1;30mINFO\u001b[0m:\u001b[34mHST\u001b[0m:  chip=3 cpu=0 halted, status=0x0\n",
      "\u001b[1;30mINFO\u001b[0m:\u001b[34mHST\u001b[0m:  chip=4 cpu=0 halted, status=0x0\n",
      "\u001b[1;30mINFO\u001b[0m:\u001b[34mHST\u001b[0m:  chip=5 cpu=0 halted, status=0x0\n",
      "\u001b[1;30mINFO\u001b[0m:\u001b[34mHST\u001b[0m:  chip=6 cpu=0 halted, status=0x0\n",
      "\u001b[1;30mINFO\u001b[0m:\u001b[34mHST\u001b[0m:  chip=7 cpu=0 halted, status=0x0\n",
      "\u001b[1;30mINFO\u001b[0m:\u001b[34mHST\u001b[0m:  chip=8 cpu=0 halted, status=0x0\n",
      "\u001b[1;30mINFO\u001b[0m:\u001b[34mHST\u001b[0m:  chip=9 cpu=0 halted, status=0x0\n",
      "\u001b[1;30mINFO\u001b[0m:\u001b[34mHST\u001b[0m:  chip=10 cpu=0 halted, status=0x0\n",
      "\u001b[1;30mINFO\u001b[0m:\u001b[34mHST\u001b[0m:  chip=11 cpu=0 halted, status=0x0\n",
      "\u001b[1;30mINFO\u001b[0m:\u001b[34mHST\u001b[0m:  chip=12 cpu=0 halted, status=0x0\n",
      "\u001b[1;30mINFO\u001b[0m:\u001b[34mHST\u001b[0m:  chip=13 cpu=0 halted, status=0x0\n",
      "\u001b[1;30mINFO\u001b[0m:\u001b[34mHST\u001b[0m:  chip=14 cpu=0 halted, status=0x0\n",
      "\u001b[1;30mINFO\u001b[0m:\u001b[34mHST\u001b[0m:  chip=15 cpu=0 halted, status=0x0\n",
      "\u001b[1;30mINFO\u001b[0m:\u001b[34mHST\u001b[0m:  chip=16 cpu=0 halted, status=0x0\n",
      "\u001b[1;30mINFO\u001b[0m:\u001b[34mHST\u001b[0m:  chip=17 cpu=0 halted, status=0x0\n",
      "\u001b[1;30mINFO\u001b[0m:\u001b[34mHST\u001b[0m:  chip=18 cpu=0 halted, status=0x0\n",
      "\u001b[1;30mINFO\u001b[0m:\u001b[34mHST\u001b[0m:  chip=19 cpu=0 halted, status=0x0\n",
      "\u001b[1;30mINFO\u001b[0m:\u001b[34mHST\u001b[0m:  chip=20 cpu=0 halted, status=0x0\n",
      "\u001b[1;30mINFO\u001b[0m:\u001b[34mHST\u001b[0m:  chip=21 cpu=0 halted, status=0x0\n",
      "\u001b[1;30mINFO\u001b[0m:\u001b[34mHST\u001b[0m:  chip=22 cpu=0 halted, status=0x0\n",
      "\u001b[1;30mINFO\u001b[0m:\u001b[34mHST\u001b[0m:  chip=23 cpu=0 halted, status=0x0\n",
      "\u001b[1;30mINFO\u001b[0m:\u001b[34mHST\u001b[0m:  chip=24 cpu=0 halted, status=0x0\n",
      "\u001b[1;30mINFO\u001b[0m:\u001b[34mHST\u001b[0m:  chip=25 cpu=0 halted, status=0x0\n",
      "\u001b[1;30mINFO\u001b[0m:\u001b[34mHST\u001b[0m:  chip=26 cpu=0 halted, status=0x0\n",
      "\u001b[1;30mINFO\u001b[0m:\u001b[34mHST\u001b[0m:  chip=27 cpu=0 halted, status=0x0\n",
      "\u001b[1;30mINFO\u001b[0m:\u001b[34mHST\u001b[0m:  chip=28 cpu=0 halted, status=0x0\n",
      "\u001b[1;30mINFO\u001b[0m:\u001b[34mHST\u001b[0m:  chip=29 cpu=0 halted, status=0x0\n",
      "\u001b[1;30mINFO\u001b[0m:\u001b[34mHST\u001b[0m:  chip=30 cpu=0 halted, status=0x0\n",
      "\u001b[1;30mINFO\u001b[0m:\u001b[34mHST\u001b[0m:  chip=31 cpu=0 halted, status=0x0\n"
     ]
    }
   ],
   "source": [
    "# Send the spike data\n",
    "\"\"\"\n",
    "# for a real-time demo, this would look something like:\n",
    "while(True): #some condition to determine when the demo has ended\n",
    "    spikeTimes, spikeTargets = getSpikesFromSkin()\n",
    "    spikeStreamer.sendSpikes(spikeTargets, spikeTimes)\n",
    "\"\"\"\n",
    "\n",
    "# for this artificial test, we'll fake some spike data\n",
    "maxSpikesPerPacket = 50 # only used for our test/artificial spike generation. In real-time demo the number of spikes isn't limited\n",
    "numSendIterations = runTime//accumulationInterval # lets assume we send spikes 10 different times.\n",
    "minTime = 0\n",
    "allTimes = np.zeros((0,), dtype=int)\n",
    "allTargets = np.zeros((0,), dtype=int)\n",
    "\n",
    "# create a variable to hold all the results\n",
    "results = np.zeros((spikeStreamer.numOutputs,numSendIterations), dtype=np.int)\n",
    "\n",
    "for ii in range(numSendIterations):\n",
    "    maxTime = (ii+1)*runTime//numSendIterations\n",
    "    \n",
    "    # randomly generate spikes. Column 0 is neuron, column 1 is time.\n",
    "    spikes = np.zeros((maxSpikesPerPacket,2), dtype=int)\n",
    "    spikes[:,0] = np.random.randint(0, numInputNeurons, size=(maxSpikesPerPacket,), dtype=int)\n",
    "    spikes[:,1] = np.random.randint(minTime, maxTime, size=(maxSpikesPerPacket,), dtype=int)\n",
    "    spikes = np.unique(spikes, axis=0) # we only want 1 spike per neuron per timestep\n",
    "    \n",
    "    minTime = maxTime\n",
    "    \n",
    "    # sort into chronological order (column 1)\n",
    "    spikes = spikes[spikes[:,1].argsort(), :]\n",
    "\n",
    "    # record the spikes so we can verify them later\n",
    "    allTimes = np.concatenate((allTimes, spikes[:,1]))\n",
    "    allTargets = np.concatenate((allTargets, spikes[:,0]))\n",
    "\n",
    "    # send the spikes\n",
    "    spikeStreamer.sendSpikes(spikes[:,0], spikes[:,1])\n",
    "    \n",
    "    # get the latest results. For this to work, the chip must have advanced past the time at which this result is expected.\n",
    "    # For example, if the accumulationInterval==100, then the first results will only be reported after the Loihi timestep passes 100\n",
    "    spikeStreamer.advanceTime(maxTime)\n",
    "    results[:,ii] = spikeStreamer.getResults()"
   ]
  },
  {
   "cell_type": "code",
   "execution_count": 8,
   "metadata": {},
   "outputs": [],
   "source": [
    "# at any point, \"flushSpikes\" can be called to flush any buffered spikes to the chip\n",
    "#spikeInputStreamer.flushSpikes()"
   ]
  },
  {
   "cell_type": "code",
   "execution_count": 9,
   "metadata": {},
   "outputs": [],
   "source": [
    "# before finishing the run, make sure to advance the chip time to the end of the run\n",
    "spikeStreamer.advanceTime(runTime)"
   ]
  },
  {
   "cell_type": "code",
   "execution_count": 10,
   "metadata": {},
   "outputs": [
    {
     "name": "stdout",
     "output_type": "stream",
     "text": [
      "\u001b[1;30mINFO\u001b[0m:\u001b[34mDRV\u001b[0m:      Executing...................Done 2.83ms\n",
      "\u001b[1;30mINFO\u001b[0m:\u001b[34mDRV\u001b[0m:      Processing timeseries.......Done 1.92ms\n",
      "\u001b[1;30mINFO\u001b[0m:\u001b[34mHST\u001b[0m:  chip=0 cpu=0 halted, status=0x0\n"
     ]
    }
   ],
   "source": [
    "board.finishRun()\n",
    "board.disconnect()"
   ]
  },
  {
   "cell_type": "code",
   "execution_count": 11,
   "metadata": {},
   "outputs": [
    {
     "name": "stdout",
     "output_type": "stream",
     "text": [
      "Success!!!\n"
     ]
    }
   ],
   "source": [
    "# check that the spikes received from probes match the spikes we injected\n",
    "\n",
    "# How many timesteps delay between input and output \n",
    "# 2 because input layer incurs 1 timestep delay and our network incurs another timestep delay\n",
    "timeOffset=2\n",
    "\n",
    "for jj in range(spikeStreamer.numOutputs):\n",
    "    thisTimes = allTimes[allTargets==jj] + timeOffset\n",
    "    for ii in range(numSendIterations):\n",
    "        assert results[jj, ii] == np.sum(np.logical_and((ii*accumulationInterval)<=thisTimes, thisTimes<((ii+1)*accumulationInterval))), \"error, spike mismatch\"\n",
    "print(\"Success!!!\")"
   ]
  },
  {
   "cell_type": "code",
   "execution_count": null,
   "metadata": {},
   "outputs": [],
   "source": []
  }
 ],
 "metadata": {
  "kernelspec": {
   "display_name": "Python 3",
   "language": "python",
   "name": "python3"
  },
  "language_info": {
   "codemirror_mode": {
    "name": "ipython",
    "version": 3
   },
   "file_extension": ".py",
   "mimetype": "text/x-python",
   "name": "python",
   "nbconvert_exporter": "python",
   "pygments_lexer": "ipython3",
   "version": "3.5.2"
  }
 },
 "nbformat": 4,
 "nbformat_minor": 4
}
