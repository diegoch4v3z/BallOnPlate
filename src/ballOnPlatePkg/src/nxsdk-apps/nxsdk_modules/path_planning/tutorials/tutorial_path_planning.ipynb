{
 "cells": [
  {
   "cell_type": "code",
   "execution_count": 1,
   "metadata": {},
   "outputs": [],
   "source": [
    "# Copyright © 2019-2021 Intel Corporation.\n",
    "# \n",
    "# This software and the related documents are Intel copyrighted\n",
    "# materials, and your use of them is governed by the express \n",
    "# license under which they were provided to you (License). Unless\n",
    "# the License provides otherwise, you may not use, modify, copy, \n",
    "# publish, distribute, disclose or transmit  this software or the\n",
    "# related documents without Intel's prior written permission.\n",
    "# \n",
    "# This software and the related documents are provided as is, with\n",
    "# no express or implied warranties, other than those that are \n",
    "# expressly stated in the License."
   ]
  },
  {
   "cell_type": "markdown",
   "metadata": {},
   "source": [
    "# Path Planning\n",
    "\n",
    "This tutorial shows how to use the path planning model. Path planning model is based on the planning algorithm modeled after the operational principles of hippocampal place cells. The algorithm infers associations between neurons in a network from the asymmetric effects of STDP on a propagating sequence of spikes.\n",
    "\n",
    "Consider a path planning problem where an autonomous agent is given a map of an environment and is required to plan paths to destination locations within it. The map is encoded in the spiking network of where neurons represent map locations and synaptic connections represent spatial associations between them. The path between the current location of the agent and one of the specified destinations can be found by propagating a spike wave from the destination and issuing motion commands in the direction of the local synaptic vector. Thus to navigate to the destination after a spike wave propagates, the agent localizes itself with sensory cues, reads the path encoded in the local synaptic vector and\n",
    "generates successive motion commands towards the destination.\n",
    "\n",
    "The synaptic weight between any two neurons in the network undergo activity-dependent plasticity based on the following learning rule:\n",
    "\n",
    "   ![title](figures/path_planning_lr.png)\n",
    "\n",
    "\n",
    "The spiking thresholds of the neurons are chosen such that a postsynaptic spike is generated in response to multiple presynaptic spikes received within a short window of time. When every neuron is configured with an absolute after-\n",
    "spike refractory period, a localized cluster of spikes within the grid will generate a sequence of spikes as a result of the distance-dependent synaptic configuration. This is visualized as a two-dimensional propagating wavefront as shown in figure below.\n",
    "   \n",
    "   ![title](figures/path_planning_wavefront.png)\n",
    "\n"
   ]
  },
  {
   "cell_type": "code",
   "execution_count": 2,
   "metadata": {},
   "outputs": [],
   "source": [
    "import os\n",
    "import matplotlib.pyplot as plt\n",
    "from IPython.display import IFrame\n",
    "from nxsdk_modules.path_planning.src.nxcore.path_planning import PathPlanning\n",
    "from nxsdk_modules.path_planning.src.visualization.export_graph_wavefront_to_html import ExportGraphWavefrontToHtml\n",
    "from nxsdk.graph.monitor.probes import SpikeProbeCondition"
   ]
  },
  {
   "cell_type": "markdown",
   "metadata": {},
   "source": [
    "## 1. Loading the graph\n",
    "\n",
    "Path planning model needs graph in form of Spiking Neural Network with Neurons representing nodes in the graph and synaptic connection edges. The graph we will use for tutorial is 2d 4x4 graph consisting of 16 neurons with all to all connectivity. After obtaining the graph directory, instantiate the Path Planning model."
   ]
  },
  {
   "cell_type": "code",
   "execution_count": 3,
   "metadata": {},
   "outputs": [],
   "source": [
    "graphDir = os.path.abspath('') + \"/../data/2d4\"\n",
    "graphDir = os.path.abspath('') + \"/../data/2d10\"\n",
    "graph = PathPlanning(graphDir)"
   ]
  },
  {
   "cell_type": "markdown",
   "metadata": {},
   "source": [
    "## 2. Setting up the network\n",
    "\n",
    "In this phase the network is setup : graph is read from the given directory and all the required nodesets are configured."
   ]
  },
  {
   "cell_type": "code",
   "execution_count": 4,
   "metadata": {},
   "outputs": [
    {
     "name": "stdout",
     "output_type": "stream",
     "text": [
      "\u001b[1;30mINFO\u001b[0m:\u001b[34mPATH_PLANNING\u001b[0m:  Number of chips : 1\n",
      "\u001b[1;30mINFO\u001b[0m:\u001b[34mPATH_PLANNING\u001b[0m:  Reading File : /home/wildandr/projects/nxsdk/nxsdk_modules/path_planning/tutorials/../data/2d10/chip0.binary chipId : 0\n",
      "\u001b[1;30mINFO\u001b[0m:\u001b[34mPATH_PLANNING\u001b[0m:  numCores: 1\n"
     ]
    }
   ],
   "source": [
    "chipInfo, board = graph.setupNetwork()"
   ]
  },
  {
   "cell_type": "markdown",
   "metadata": {},
   "source": [
    "## 3. Setting the destination\n",
    "\n",
    "Each graph has a destination and source written in the file. In this step we get the source and destination and then set the bias for the destination so that it spikes in the next timestep."
   ]
  },
  {
   "cell_type": "code",
   "execution_count": 5,
   "metadata": {},
   "outputs": [
    {
     "name": "stdout",
     "output_type": "stream",
     "text": [
      "\u001b[1;30mINFO\u001b[0m:\u001b[34mPATH_PLANNING\u001b[0m:  Target : chipId: 0 coreId: 0 compartmentId: 99\n",
      "\u001b[1;30mINFO\u001b[0m:\u001b[34mPATH_PLANNING\u001b[0m:  Setting target Bias: 128 chipId: 0 coreId: 0 compartmentId: 99\n"
     ]
    }
   ],
   "source": [
    "# Read targets\n",
    "targetList = graph.readTargets(graphDir, 0)\n",
    "graph.logger.info(\n",
    "    \"Target :\"\n",
    "    \" chipId: {}\"\n",
    "    \" coreId: {}\"\n",
    "    \" compartmentId: {}\".format(\n",
    "        targetList[1]['chipId'],\n",
    "        targetList[1]['coreId'],\n",
    "        targetList[1]['compartmentId']))\n",
    "graph.setTargetBias(targetList[1], 1 << 6 + 1)"
   ]
  },
  {
   "cell_type": "markdown",
   "metadata": {},
   "source": [
    "## 4. Printing out the obtained source"
   ]
  },
  {
   "cell_type": "code",
   "execution_count": 6,
   "metadata": {},
   "outputs": [
    {
     "name": "stdout",
     "output_type": "stream",
     "text": [
      "\u001b[1;30mINFO\u001b[0m:\u001b[34mPATH_PLANNING\u001b[0m:  Source : chipId: 0 coreId: 0 compartmentId: 0\n"
     ]
    }
   ],
   "source": [
    "sourceChipId = targetList[0]['chipId']\n",
    "sourceCoreId = targetList[0]['coreId']\n",
    "sourceCompartmentId = targetList[0]['compartmentId']\n",
    "sourceCore = board.n2Chips[sourceChipId].n2Cores[sourceCoreId]\n",
    "graph.logger.info(\n",
    "    \"Source :\"\n",
    "    \" chipId: {}\"\n",
    "    \" coreId: {}\"\n",
    "    \" compartmentId: {}\".format(\n",
    "            sourceChipId,\n",
    "            sourceCoreId,\n",
    "            sourceCompartmentId))"
   ]
  },
  {
   "cell_type": "markdown",
   "metadata": {},
   "source": [
    "## 5. Setting up the snip\n",
    "\n",
    "In this step we setup the snip, which creates a snip in the mgmt phase and also creates a channel, which will be used to communicate when the spike from the destination reached the source."
   ]
  },
  {
   "cell_type": "code",
   "execution_count": 7,
   "metadata": {},
   "outputs": [
    {
     "name": "stdout",
     "output_type": "stream",
     "text": [
      "\u001b[1;30mWARNING\u001b[0m:\u001b[34mDRV\u001b[0m:  \u001b[33melementType would be deprecated in 0.9 in favor of messageSize, which provides more flexibility\u001b[0m\n"
     ]
    }
   ],
   "source": [
    "spikeTimeChannel = graph.setupSnip(sourceChipId)\n",
    "\n",
    "# Define probes\n",
    "mon = board.monitor\n",
    "\n",
    "# tStart = 10000000 (any large value so that the probe infrastrucutre on host doesn't kick-in for mgmt read)\n",
    "# What creating a probe will do, is to create an output axon from cx to lmt counter 0x20\n",
    "# Probe counters are assigned incrementally.\n",
    "# If we would have created one more probe its lmt address would have been\n",
    "# 0x21\n",
    "customSpikeProbeCond = SpikeProbeCondition(tStart=10000000)\n",
    "spikeProbesCust = mon.probe(\n",
    "    sourceCore.cxState,\n",
    "    [sourceCompartmentId],\n",
    "    'spike',\n",
    "    probeCondition=customSpikeProbeCond)"
   ]
  },
  {
   "cell_type": "markdown",
   "metadata": {},
   "source": [
    "## 6. Running the network\n",
    "\n",
    "In this step, we first run the network for 1 timestep to allow the destination to spike and then reset the bias of the target, so that it doesn't spikes again. After that we run for arbitary large number of timesteps till the source spikes.\n"
   ]
  },
  {
   "cell_type": "code",
   "execution_count": 8,
   "metadata": {},
   "outputs": [
    {
     "name": "stdout",
     "output_type": "stream",
     "text": [
      "\u001b[1;30mINFO\u001b[0m:\u001b[34mDRV\u001b[0m:  SLURM is being run in background\n",
      "\u001b[1;30mINFO\u001b[0m:\u001b[34mDRV\u001b[0m:  Connecting to 134.134.68.81:36353\n",
      "\u001b[1;30mINFO\u001b[0m:\u001b[34mDRV\u001b[0m:      Host server up..............Done 3.60s\n",
      "\u001b[1;30mINFO\u001b[0m:\u001b[34mDRV\u001b[0m:      Encoding axons/synapses.....Done 0.03s\n",
      "\u001b[1;30mINFO\u001b[0m:\u001b[34mDRV\u001b[0m:      Compiling Embedded snips....Done 0.64s\n",
      "\u001b[1;30mINFO\u001b[0m:\u001b[34mDRV\u001b[0m:      Encoding probes.............Done 0.63ms\n",
      "\u001b[1;30mINFO\u001b[0m:\u001b[34mDRV\u001b[0m:      Booting up..................Done 2.59s\n",
      "\u001b[1;30mINFO\u001b[0m:\u001b[34mDRV\u001b[0m:      Configuring registers.......Done 0.01s\n",
      "\u001b[1;30mINFO\u001b[0m:\u001b[34mDRV\u001b[0m:      Transferring probes.........Done 2.95ms\n",
      "\u001b[1;30mINFO\u001b[0m:\u001b[34mDRV\u001b[0m:      Transferring spikes.........Done 0.56ms\n",
      "\u001b[1;30mINFO\u001b[0m:\u001b[34mDRV\u001b[0m:      Executing...................Done 1.73ms\n",
      "\u001b[1;30mINFO\u001b[0m:\u001b[34mDRV\u001b[0m:      Processing timeseries.......Done 1.64ms\n",
      "\u001b[1;30mINFO\u001b[0m:\u001b[34mDRV\u001b[0m:  Executor: 1 timesteps...........Done 6.91s\n",
      "\u001b[1;30mINFO\u001b[0m:\u001b[34mPATH_PLANNING\u001b[0m:  Setting target Bias: 1 chipId: 0 coreId: 0 compartmentId: 99\n",
      "\u001b[1;30mINFO\u001b[0m:\u001b[34mDRV\u001b[0m:      Configuring registers.......Done 4.71ms\n",
      "\u001b[1;30mINFO\u001b[0m:\u001b[34mDRV\u001b[0m:      Transferring probes.........Done 0.89ms\n",
      "\u001b[1;30mINFO\u001b[0m:\u001b[34mDRV\u001b[0m:      Transferring spikes.........Done 0.43ms\n"
     ]
    }
   ],
   "source": [
    "# Run the network\n",
    "board.run(1)\n",
    "# Reset target bias to prevent spiking\n",
    "graph.setTargetBias(targetList[1], 1)\n",
    "# Continue running the network\n",
    "board.run(2000, aSync=True)"
   ]
  },
  {
   "cell_type": "markdown",
   "metadata": {},
   "source": [
    "## 7. Getting the time when the source spikes\n",
    "\n",
    "We use the channel we created in the snip to obtain the time at which the source spikes. We pause the execution after we know learning epoch has passed after source spiked."
   ]
  },
  {
   "cell_type": "code",
   "execution_count": 9,
   "metadata": {},
   "outputs": [],
   "source": [
    "spikeTime = []\n",
    "# Read spiketime when shortest path is found\n",
    "spikeTime.append(spikeTimeChannel.read(1))\n",
    "# Stop excution after epoch is passed\n",
    "spikeTime.append(spikeTimeChannel.read(1))\n",
    "board.pause()"
   ]
  },
  {
   "cell_type": "markdown",
   "metadata": {},
   "source": [
    "## 8. Calculating the Shortest Path\n",
    "\n",
    "The length of the shortest path is the timestep at which source spikes. "
   ]
  },
  {
   "cell_type": "code",
   "execution_count": 10,
   "metadata": {},
   "outputs": [
    {
     "name": "stdout",
     "output_type": "stream",
     "text": [
      "\u001b[1;30mINFO\u001b[0m:\u001b[34mPATH_PLANNING\u001b[0m:  Length of shortest path: 19\n",
      "\u001b[1;30mINFO\u001b[0m:\u001b[34mPATH_PLANNING\u001b[0m:  Current timestep: 24\n"
     ]
    }
   ],
   "source": [
    "graph.logger.info(\"Length of shortest path: {}\".format(spikeTime[0][0]))\n",
    "graph.logger.info(\"Current timestep: {}\".format(spikeTime[1][0]))    "
   ]
  },
  {
   "cell_type": "markdown",
   "metadata": {},
   "source": [
    "## 9. Tracing the Synaptic entries to get the shortest path\n",
    "\n",
    "We trace the synaptic entries from the source to destination to determine the shortest path."
   ]
  },
  {
   "cell_type": "code",
   "execution_count": 11,
   "metadata": {},
   "outputs": [
    {
     "name": "stdout",
     "output_type": "stream",
     "text": [
      "\u001b[1;30mINFO\u001b[0m:\u001b[34mPATH_PLANNING\u001b[0m:  List of nodes in the shortest path are:\n",
      "\u001b[1;30mINFO\u001b[0m:\u001b[34mPATH_PLANNING\u001b[0m:  Node: 0 Chip: 0 Core: 0 Compartment: 0\n",
      "\u001b[1;30mINFO\u001b[0m:\u001b[34mPATH_PLANNING\u001b[0m:  Node: 1 Chip: 0 Core: 0 Compartment: 10\n",
      "\u001b[1;30mINFO\u001b[0m:\u001b[34mPATH_PLANNING\u001b[0m:  Node: 2 Chip: 0 Core: 0 Compartment: 11\n",
      "\u001b[1;30mINFO\u001b[0m:\u001b[34mPATH_PLANNING\u001b[0m:  Node: 3 Chip: 0 Core: 0 Compartment: 21\n",
      "\u001b[1;30mINFO\u001b[0m:\u001b[34mPATH_PLANNING\u001b[0m:  Node: 4 Chip: 0 Core: 0 Compartment: 22\n",
      "\u001b[1;30mINFO\u001b[0m:\u001b[34mPATH_PLANNING\u001b[0m:  Node: 5 Chip: 0 Core: 0 Compartment: 23\n",
      "\u001b[1;30mINFO\u001b[0m:\u001b[34mPATH_PLANNING\u001b[0m:  Node: 6 Chip: 0 Core: 0 Compartment: 24\n",
      "\u001b[1;30mINFO\u001b[0m:\u001b[34mPATH_PLANNING\u001b[0m:  Node: 7 Chip: 0 Core: 0 Compartment: 25\n",
      "\u001b[1;30mINFO\u001b[0m:\u001b[34mPATH_PLANNING\u001b[0m:  Node: 8 Chip: 0 Core: 0 Compartment: 26\n",
      "\u001b[1;30mINFO\u001b[0m:\u001b[34mPATH_PLANNING\u001b[0m:  Node: 9 Chip: 0 Core: 0 Compartment: 27\n",
      "\u001b[1;30mINFO\u001b[0m:\u001b[34mPATH_PLANNING\u001b[0m:  Node: 10 Chip: 0 Core: 0 Compartment: 28\n",
      "\u001b[1;30mINFO\u001b[0m:\u001b[34mPATH_PLANNING\u001b[0m:  Node: 11 Chip: 0 Core: 0 Compartment: 29\n",
      "\u001b[1;30mINFO\u001b[0m:\u001b[34mPATH_PLANNING\u001b[0m:  Node: 12 Chip: 0 Core: 0 Compartment: 39\n",
      "\u001b[1;30mINFO\u001b[0m:\u001b[34mPATH_PLANNING\u001b[0m:  Node: 13 Chip: 0 Core: 0 Compartment: 49\n",
      "\u001b[1;30mINFO\u001b[0m:\u001b[34mPATH_PLANNING\u001b[0m:  Node: 14 Chip: 0 Core: 0 Compartment: 59\n",
      "\u001b[1;30mINFO\u001b[0m:\u001b[34mPATH_PLANNING\u001b[0m:  Node: 15 Chip: 0 Core: 0 Compartment: 69\n",
      "\u001b[1;30mINFO\u001b[0m:\u001b[34mPATH_PLANNING\u001b[0m:  Node: 16 Chip: 0 Core: 0 Compartment: 79\n",
      "\u001b[1;30mINFO\u001b[0m:\u001b[34mPATH_PLANNING\u001b[0m:  Node: 17 Chip: 0 Core: 0 Compartment: 89\n",
      "\u001b[1;30mINFO\u001b[0m:\u001b[34mPATH_PLANNING\u001b[0m:  Node: 18  Chip: 0  Core: 0  Compartment: 99\n"
     ]
    }
   ],
   "source": [
    "shortestPath = graph.tracePathThroughSynapseWeights(targetList[0], targetList[1])"
   ]
  },
  {
   "cell_type": "code",
   "execution_count": 12,
   "metadata": {},
   "outputs": [
    {
     "data": {
      "text/html": [
       "\n",
       "        <iframe\n",
       "            width=\"100%\"\n",
       "            height=\"500px\"\n",
       "            src=\"wavefront.html\"\n",
       "            frameborder=\"0\"\n",
       "            allowfullscreen\n",
       "        ></iframe>\n",
       "        "
      ],
      "text/plain": [
       "<IPython.lib.display.IFrame at 0x7f4fa806e550>"
      ]
     },
     "execution_count": 12,
     "metadata": {},
     "output_type": "execute_result"
    }
   ],
   "source": [
    "ExportGraphWavefrontToHtml(graph).publish()\n",
    "IFrame(src=\"wavefront.html\", height='500px', width='100%')"
   ]
  },
  {
   "cell_type": "code",
   "execution_count": 13,
   "metadata": {},
   "outputs": [],
   "source": [
    "board.disconnect()"
   ]
  }
 ],
 "metadata": {
  "kernelspec": {
   "display_name": "Python 3",
   "language": "python",
   "name": "python3"
  },
  "language_info": {
   "codemirror_mode": {
    "name": "ipython",
    "version": 3
   },
   "file_extension": ".py",
   "mimetype": "text/x-python",
   "name": "python",
   "nbconvert_exporter": "python",
   "pygments_lexer": "ipython3",
   "version": "3.5.5"
  }
 },
 "nbformat": 4,
 "nbformat_minor": 2
}
