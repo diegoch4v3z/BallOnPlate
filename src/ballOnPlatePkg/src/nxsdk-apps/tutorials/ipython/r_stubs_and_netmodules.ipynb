{
 "cells": [
  {
   "cell_type": "code",
   "execution_count": 1,
   "metadata": {},
   "outputs": [],
   "source": [
    "# INTEL CORPORATION CONFIDENTIAL AND PROPRIETARY\n",
    "# \n",
    "# Copyright © 2019-2021 Intel Corporation.\n",
    "# \n",
    "# This software and the related documents are Intel copyrighted\n",
    "# materials, and your use of them is governed by the express \n",
    "# license under which they were provided to you (License). Unless\n",
    "# the License provides otherwise, you may not use, modify, copy, \n",
    "# publish, distribute, disclose or transmit  this software or the\n",
    "# related documents without Intel's prior written permission.\n",
    "# \n",
    "# This software and the related documents are provided as is, with\n",
    "# no express or implied warranties, other than those that are \n",
    "# expressly stated in the License."
   ]
  },
  {
   "cell_type": "code",
   "execution_count": 2,
   "metadata": {},
   "outputs": [],
   "source": [
    "import nxsdk.api.n2a as nx\n",
    "import matplotlib.pyplot as plt\n",
    "import numpy as np"
   ]
  },
  {
   "cell_type": "markdown",
   "metadata": {},
   "source": [
    "# Stubs and NetModules\n",
    "This tutorial demonstrates how to use Stubs to create partial connections and how these Stubs can be used as the inputs and outputs for NetModules.\n",
    "\n",
    "Imagine a simple use case in which we want to create a \"NetModule\" for others to use. This NetModule can form part of a larger network, but we want to be able to specify the NetModule before having created the larger network. \n",
    "\n",
    "As an example, let's consider a simple use case in which we have two input neurons, and we want to compute the logical OR and logical AND of their spikes. The network would look something like Figure 1 below.\n",
    "\n",
    "Figure 1.\n",
    "![Basic logic gate](figures/jupyter_logic_gates.png)\n",
    "\n",
    "This is a fairly trivial network to create. We could do it like this:"
   ]
  },
  {
   "cell_type": "markdown",
   "metadata": {},
   "source": [
    "## Full Specification without netmodules or stubs\n",
    "### Define Compartments"
   ]
  },
  {
   "cell_type": "code",
   "execution_count": 3,
   "metadata": {},
   "outputs": [],
   "source": [
    "def makeInputCompartments(net):\n",
    "    \"\"\"Creates the leftmost compartments in Figure 1\"\"\"\n",
    "    # A prototype that spikes every time it receives an input spike and decays instantly\n",
    "    inputProto = nx.CompartmentPrototype(vThMant=1,                              \n",
    "                                         compartmentVoltageDecay=4095,\n",
    "                                         compartmentCurrentDecay=4095,\n",
    "                                         functionalState=nx.COMPARTMENT_FUNCTIONAL_STATE.IDLE)\n",
    "\n",
    "    compA = net.createCompartment(prototype=inputProto)\n",
    "    compB = net.createCompartment(prototype=inputProto)\n",
    "    return compA, compB\n",
    "\n",
    "def makeOutputCompartments(net):\n",
    "    \"\"\"Creates the rightmost compartments in Figure 1\"\"\"\n",
    "    # We'll make this the same as the input neurons... since we don't know how this netmodule\n",
    "    # will be used, we don't really know the properties of the compartments it will connect to\n",
    "    outputProto = nx.CompartmentPrototype(vThMant=1,                              \n",
    "                                         compartmentVoltageDecay=4095,\n",
    "                                         compartmentCurrentDecay=4095,\n",
    "                                         functionalState=nx.COMPARTMENT_FUNCTIONAL_STATE.IDLE)\n",
    "\n",
    "    compAndOut = net.createCompartment(prototype=outputProto)\n",
    "    compOrOut = net.createCompartment(prototype=outputProto)\n",
    "    return compAndOut, compOrOut"
   ]
  },
  {
   "cell_type": "code",
   "execution_count": 4,
   "metadata": {},
   "outputs": [],
   "source": [
    "net = nx.NxNet()\n",
    "compA, compB = makeInputCompartments(net)\n",
    "compAndOut, compOrOut = makeOutputCompartments(net)\n",
    "\n",
    "# AND and OR prototype neurons\n",
    "orProto = nx.CompartmentPrototype(vThMant=5,\n",
    "                                  compartmentVoltageDecay=4095,\n",
    "                                  compartmentCurrentDecay=4095,\n",
    "                                  functionalState=nx.COMPARTMENT_FUNCTIONAL_STATE.IDLE)\n",
    "\n",
    "andProto = nx.CompartmentPrototype(vThMant=15,\n",
    "                                   compartmentVoltageDecay=4095,\n",
    "                                   compartmentCurrentDecay=4095,\n",
    "                                   functionalState=nx.COMPARTMENT_FUNCTIONAL_STATE.IDLE)\n",
    "\n",
    "compAnd = net.createCompartment(prototype=andProto)\n",
    "compOr = net.createCompartment(prototype=orProto)\n"
   ]
  },
  {
   "cell_type": "markdown",
   "metadata": {},
   "source": [
    "### Define Connections"
   ]
  },
  {
   "cell_type": "code",
   "execution_count": 5,
   "metadata": {},
   "outputs": [
    {
     "data": {
      "text/plain": [
       "<nxsdk.net.nodes.connections.ConnectionCC at 0x7f80770a2ba8>"
      ]
     },
     "execution_count": 5,
     "metadata": {},
     "output_type": "execute_result"
    }
   ],
   "source": [
    "connProto = nx.ConnectionPrototype(weight=10)\n",
    "\n",
    "# input connections\n",
    "compA.connect(compAnd, prototype=connProto)\n",
    "compA.connect(compOr, prototype=connProto)\n",
    "compB.connect(compAnd, prototype=connProto)\n",
    "compB.connect(compOr, prototype=connProto)\n",
    "\n",
    "# output connections\n",
    "compAnd.connect(compAndOut, prototype=connProto)\n",
    "compOr.connect(compOrOut, prototype=connProto)"
   ]
  },
  {
   "cell_type": "markdown",
   "metadata": {},
   "source": [
    "### Stimulate and Run\n",
    "We'll re-use this function a few times in the tutorial after constructing the network in different ways."
   ]
  },
  {
   "cell_type": "code",
   "execution_count": 6,
   "metadata": {},
   "outputs": [],
   "source": [
    "def stimulateAndRun(inputA, inputB, outputAnd, outputOr, net):\n",
    "    \"\"\"Creates spike gens, probes, and runs the network\"\"\"\n",
    "    # Create Spike Generators\n",
    "    spikeGenA = net.createSpikeGenProcess(numPorts = 1)\n",
    "    spikeGenB = net.createSpikeGenProcess(numPorts = 1)\n",
    "\n",
    "    # connect spike gens to the inputs\n",
    "    spikeGenA.connect(inputA, prototype=connProto)\n",
    "    spikeGenB.connect(inputB, prototype=connProto)\n",
    "\n",
    "    # Add spikes\n",
    "    spikesA = [10,20]\n",
    "    spikeGenA.addSpikes(spikeInputPortNodeIds = 0, spikeTimes = spikesA)\n",
    "\n",
    "    spikesB = [10,30]\n",
    "    spikeGenB.addSpikes(spikeInputPortNodeIds = 0, spikeTimes = spikesB)\n",
    "     \n",
    "    # Probe the outputs\n",
    "    spikesAnd = outputAnd.probe(nx.ProbeParameter.SPIKE)[0]\n",
    "    spikesOr = outputOr.probe(nx.ProbeParameter.SPIKE)[0]\n",
    "    \n",
    "    # Run\n",
    "    net.run(100)\n",
    "    net.disconnect()\n",
    "    print('A spike times: ' + str(spikesA))\n",
    "    print('B spike times: ' + str(spikesB))\n",
    "    print('AND spike times: ' + str(np.where(spikesAnd.data)))\n",
    "    print('OR spike times: ' + str(np.where(spikesOr.data)))"
   ]
  },
  {
   "cell_type": "markdown",
   "metadata": {},
   "source": [
    "You should see the AND and OR compartments spiking 2 timesteps after the inputs"
   ]
  },
  {
   "cell_type": "code",
   "execution_count": 7,
   "metadata": {},
   "outputs": [
    {
     "name": "stdout",
     "output_type": "stream",
     "text": [
      "/home/gorchard/nxsdk-nxsdk/nxsdk/graph/nxinputgen/../../snips/\n",
      "\u001b[1;30mINFO\u001b[0m:\u001b[34mDRV\u001b[0m:  SLURM is being run in background\n",
      "\u001b[1;30mINFO\u001b[0m:\u001b[34mDRV\u001b[0m:  Connecting to 134.134.68.81:33923\n",
      "\u001b[1;30mINFO\u001b[0m:\u001b[34mDRV\u001b[0m:      Host server up..............Done 0.16s\n",
      "\u001b[1;30mINFO\u001b[0m:\u001b[34mDRV\u001b[0m:      Encoding axons/synapses.....Done 1.74ms\n",
      "\u001b[1;30mINFO\u001b[0m:\u001b[34mDRV\u001b[0m:      Compiling snips.............Done 0.20s\n",
      "\u001b[1;30mINFO\u001b[0m:\u001b[34mDRV\u001b[0m:      Booting up..................Done 2.60s\n",
      "\u001b[1;30mINFO\u001b[0m:\u001b[34mDRV\u001b[0m:      Encoding probes.............Done 0.12ms\n",
      "\u001b[1;30mINFO\u001b[0m:\u001b[34mDRV\u001b[0m:      Configuring registers.......Done 3.23ms\n",
      "\u001b[1;30mINFO\u001b[0m:\u001b[34mDRV\u001b[0m:      Transferring spikes.........Done 1.32ms\n",
      "\u001b[1;30mINFO\u001b[0m:\u001b[34mDRV\u001b[0m:      Transferring probes.........Done 2.66ms\n",
      "\u001b[1;30mINFO\u001b[0m:\u001b[34mDRV\u001b[0m:      Executing...................Done 5.87ms\n",
      "\u001b[1;30mINFO\u001b[0m:\u001b[34mDRV\u001b[0m:      Processing timeseries.......Done 1.69ms\n",
      "\u001b[1;30mINFO\u001b[0m:\u001b[34mDRV\u001b[0m:  Executor: 100 timesteps.........Done 3.00s\n",
      "A spike times: [10, 20]\n",
      "B spike times: [10, 30]\n",
      "AND spike times: (array([12]),)\n",
      "OR spike times: (array([12, 22, 32]),)\n"
     ]
    }
   ],
   "source": [
    "stimulateAndRun(compA, compB, compAndOut, compOrOut, net)"
   ]
  },
  {
   "cell_type": "markdown",
   "metadata": {},
   "source": [
    "## With Stubs\n",
    "Now imagine we intend for this module to be used in a larger network. Ideally we would just define the AND and OR neurons and their input connection properties. This is where Stubs come in. Stubs can be used as placeholders for compartments which are not yet specified.\n",
    "\n",
    "Figure 2 below shows a module which uses stubs for its input and output. We don't want the user to have to manually connect the input to both the AND and OR compartments and specify the connection properties, so we make a stub and specify the properties there.\n",
    "\n",
    "Figure 2.\n",
    "![Basic logic gate with stubs](figures/jupyter_logic_gates_stubs.png)\n",
    "\n",
    "A user can then add their own compartments and connect to from the stubs as shown in Figure 3 below. When this network is compiled, the network will collapse to become equivalent to Figure 1 at the very beginning of this tutorial.\n",
    "\n",
    "Figure 3.\n",
    "![Basic logic gate with connected stubs](figures/jupyter_logic_gates_stubs_connections.png)\n",
    "\n",
    "### Important Points\n",
    "1. A stub can have only one source. If you try to connect from multiple compartments to the same stub, NxNet will throw an error to tell you.\n",
    "2. However, stubs can connect to multiple compartments, or an output stub can connect to multiple input stubs.\n",
    "3. Connections to a stub have no properties. All the synaptic properties are defined in the connection between an input stub and any compartments it connects to.\n",
    "4. Input stubs can only connect to compartments.\n",
    "5. Output stubs can connect to either input stubs, or compartments.\n",
    "6. Stubs can be used as groups, much like other NxNet primitives.\n",
    "\n",
    "\n"
   ]
  },
  {
   "cell_type": "markdown",
   "metadata": {},
   "source": [
    "Example use.\n",
    "### Define the AND and OR compartments and stubs\n",
    "We'll use the same protoypes we defined before.\n",
    "After this block we'll have a network with stubs as shown in Figure 2."
   ]
  },
  {
   "cell_type": "code",
   "execution_count": 8,
   "metadata": {},
   "outputs": [
    {
     "data": {
      "text/plain": [
       "<nxsdk.net.nodes.connections.ConnectionCS at 0x7f8075d31240>"
      ]
     },
     "execution_count": 8,
     "metadata": {},
     "output_type": "execute_result"
    }
   ],
   "source": [
    "net = nx.NxNet()\n",
    "\n",
    "inputA = net.createInputStub()\n",
    "inputB = net.createInputStub()\n",
    "\n",
    "compAnd = net.createCompartment(prototype=andProto)\n",
    "compOr = net.createCompartment(prototype=orProto)\n",
    "\n",
    "inputA.connect(compAnd, prototype=connProto)\n",
    "inputA.connect(compOr, prototype=connProto)\n",
    "inputB.connect(compAnd, prototype=connProto)\n",
    "inputB.connect(compOr, prototype=connProto)\n",
    "\n",
    "outputAnd = net.createOutputStub()\n",
    "outputOr = net.createOutputStub()\n",
    "\n",
    "# Note that these connections do not require a prototype\n",
    "compAnd.connect(outputAnd)\n",
    "compOr.connect(outputOr)"
   ]
  },
  {
   "cell_type": "markdown",
   "metadata": {},
   "source": [
    "### Add input/output compartments and connect to stubs\n",
    "After this block we'll have the network as shown in Figure 3."
   ]
  },
  {
   "cell_type": "code",
   "execution_count": 9,
   "metadata": {},
   "outputs": [],
   "source": [
    "compA, compB = makeInputCompartments(net)\n",
    "compAndOut, compOrOut = makeOutputCompartments(net)\n",
    "\n",
    "# Note that these connections do not require a prototype\n",
    "compA.connect(inputA)\n",
    "compB.connect(inputB)\n",
    "\n",
    "# These connections go through a synapse, and therefore require a prototype\n",
    "outputAnd.connect(compAndOut, prototype=connProto)\n",
    "outputOr.connect(compOrOut, prototype=connProto)"
   ]
  },
  {
   "cell_type": "markdown",
   "metadata": {},
   "source": [
    "### Stimulate and Run\n",
    "Same as before. The behaviour should be identical to the first network we ran."
   ]
  },
  {
   "cell_type": "code",
   "execution_count": 10,
   "metadata": {},
   "outputs": [
    {
     "name": "stdout",
     "output_type": "stream",
     "text": [
      "/home/gorchard/nxsdk-nxsdk/nxsdk/graph/nxinputgen/../../snips/\n",
      "\u001b[1;30mINFO\u001b[0m:\u001b[34mDRV\u001b[0m:  SLURM is being run in background\n",
      "\u001b[1;30mINFO\u001b[0m:\u001b[34mDRV\u001b[0m:  Connecting to 134.134.68.81:38553\n",
      "\u001b[1;30mINFO\u001b[0m:\u001b[34mDRV\u001b[0m:      Host server up..............Done 0.16s\n",
      "\u001b[1;30mINFO\u001b[0m:\u001b[34mDRV\u001b[0m:      Compiling snips.............Done 0.19s\n",
      "\u001b[1;30mINFO\u001b[0m:\u001b[34mDRV\u001b[0m:      Encoding axons/synapses.....Done 1.31ms\n",
      "\u001b[1;30mINFO\u001b[0m:\u001b[34mDRV\u001b[0m:      Encoding probes.............Done 0.40ms\n",
      "\u001b[1;30mINFO\u001b[0m:\u001b[34mDRV\u001b[0m:      Booting up..................Done 2.59s\n",
      "\u001b[1;30mINFO\u001b[0m:\u001b[34mDRV\u001b[0m:      Transferring spikes.........Done 1.73ms\n",
      "\u001b[1;30mINFO\u001b[0m:\u001b[34mDRV\u001b[0m:      Transferring probes.........Done 2.38ms\n",
      "\u001b[1;30mINFO\u001b[0m:\u001b[34mDRV\u001b[0m:      Configuring registers.......Done 3.33ms\n",
      "\u001b[1;30mINFO\u001b[0m:\u001b[34mDRV\u001b[0m:      Executing...................Done 5.64ms\n",
      "\u001b[1;30mINFO\u001b[0m:\u001b[34mDRV\u001b[0m:      Processing timeseries.......Done 2.07ms\n",
      "\u001b[1;30mINFO\u001b[0m:\u001b[34mDRV\u001b[0m:  Executor: 100 timesteps.........Done 2.98s\n",
      "A spike times: [10, 20]\n",
      "B spike times: [10, 30]\n",
      "AND spike times: (array([12]),)\n",
      "OR spike times: (array([12, 22, 32]),)\n"
     ]
    }
   ],
   "source": [
    "stimulateAndRun(compA, compB, compAndOut, compOrOut, net)"
   ]
  },
  {
   "cell_type": "markdown",
   "metadata": {},
   "source": [
    "# NetModules\n",
    "Now imagine we want to package this code as a NetModule. A NetModule is a piece of code packaged in a manner that makes it easier for others to use. In particular, a NetModule inherits from the nx.NetModule class which has an \"inputs\" and \"outputs\" property. \n",
    "\n",
    "The user of of a netmodule can easily determine the inputs and outputs by looking at the 'inputs' and 'outputs' properties. This will be shown in the example below.\n",
    "\n",
    "When defining a netmodule, the super().__init__() function must be called. This will create an NxNet object for the netmodule. You can also optionally pass an NxNet object if you already have an NxNet object you would like to use.\n",
    "\n",
    "### Properties of a netmodule\n",
    "1. Calling netmodule.getInputNames() will return a list of strings with the names of inputs to the module. You can connect to a particular name using source.connect(netmodule.inputs.name, ...).\n",
    "2. Similarly netmodule.getOutputNames() will return the output names, and they can be accessed using netmodule.outputs.name\n",
    "3. If net is not passed to a netmodule, it will create it's own, in which case you need to call net.addNet(netmodule.net) from the parent network. You can also just call net.addNet(netmodule).\n",
    "4. netmodule.net will always return the NxNet object that the module belongs to.\n",
    "5. The writer of the netmodule can add any helper functions they think are necessary. For example, setting up snips or sending data via snip channels, which would only be called long after the netmodule is created."
   ]
  },
  {
   "cell_type": "code",
   "execution_count": 11,
   "metadata": {},
   "outputs": [],
   "source": [
    "class LogicGates(nx.NetModule):\n",
    "    def __init__(self, net=None):\n",
    "        super().__init__(net)\n",
    "        \n",
    "        self._setupCompartments()\n",
    "        self._setupInputs()\n",
    "        self._setupOutputs()\n",
    "        self._makeConnections()\n",
    "        \n",
    "    def _setupCompartments(self):\n",
    "        \"\"\"Creates the AND and OR compartments\"\"\"\n",
    "        orProto = andProto = nx.CompartmentPrototype(vThMant=5,\n",
    "                                   compartmentVoltageDecay=4095,\n",
    "                                   compartmentCurrentDecay=4095,\n",
    "                                   functionalState=nx.COMPARTMENT_FUNCTIONAL_STATE.IDLE)\n",
    "        andProto = nx.CompartmentPrototype(vThMant=15,\n",
    "                                   compartmentVoltageDecay=4095,\n",
    "                                   compartmentCurrentDecay=4095,\n",
    "                                   functionalState=nx.COMPARTMENT_FUNCTIONAL_STATE.IDLE)\n",
    "\n",
    "        self.compAnd = self.net.createCompartment(prototype=andProto)\n",
    "        self.compOr = self.net.createCompartment(prototype=orProto)\n",
    "        \n",
    "    def _setupInputs(self):\n",
    "        \"\"\"Creates the Input Stubs and adds them as inputs\"\"\"\n",
    "        inputStubA = self.net.createInputStub()\n",
    "        inputStubB = self.net.createInputStub()\n",
    "        self.addInput(inputStubA, 'a')\n",
    "        self.addInput(inputStubB, 'b')\n",
    "    \n",
    "    def _setupOutputs(self):\n",
    "        \"\"\"Creates the Output Stubs and adds them as outputs\"\"\"\n",
    "        outputStubAnd = self.net.createOutputStub()\n",
    "        outputStubOr = self.net.createOutputStub()\n",
    "        \n",
    "        self.addOutput(outputStubAnd, 'andGate')\n",
    "        self.addOutput(outputStubOr, 'orGate')\n",
    "    \n",
    "    def _makeConnections(self):\n",
    "        connProto = nx.ConnectionPrototype(weight=10)\n",
    "        self.inputs.a.connect(self.compAnd, prototype=connProto)\n",
    "        self.inputs.a.connect(self.compOr, prototype=connProto)\n",
    "        \n",
    "        self.inputs.b.connect(self.compAnd, prototype=connProto)\n",
    "        self.inputs.b.connect(self.compOr, prototype=connProto)\n",
    "        \n",
    "        self.compOr.connect(self.outputs.orGate)\n",
    "        self.compAnd.connect(self.outputs.andGate)\n",
    "        "
   ]
  },
  {
   "cell_type": "markdown",
   "metadata": {},
   "source": [
    "### Create an instance of the netmodule\n",
    "The netmodule we have written is just Figure 2 from above.\n",
    "We have used stubs as the inputs and outputs because it allows us to control the internal connectivity and connection properties, but in cases where this is not necessary, compartments and compartmentGroups can also directly be added as inputs and outputs.\n",
    "i.e. self.inputs.add(compartment, 'compartmentName')"
   ]
  },
  {
   "cell_type": "code",
   "execution_count": 12,
   "metadata": {},
   "outputs": [
    {
     "name": "stdout",
     "output_type": "stream",
     "text": [
      "Input names are: ['b', 'a']\n",
      "Output names are: ['orGate', 'andGate']\n"
     ]
    }
   ],
   "source": [
    "net = nx.NxNet()\n",
    "\n",
    "myModule = LogicGates()\n",
    "\n",
    "net.addNet(myModule)\n",
    "\n",
    "# Determine which inputs and outputs this module has\n",
    "print('Input names are: ' + str(myModule.getInputNames))\n",
    "print('Output names are: ' + str(myModule.getOutputNames))"
   ]
  },
  {
   "cell_type": "markdown",
   "metadata": {},
   "source": [
    "### Run the netmodule in the same toy network as above"
   ]
  },
  {
   "cell_type": "code",
   "execution_count": 13,
   "metadata": {},
   "outputs": [
    {
     "name": "stdout",
     "output_type": "stream",
     "text": [
      "/home/gorchard/nxsdk-nxsdk/nxsdk/graph/nxinputgen/../../snips/\n",
      "\u001b[1;30mINFO\u001b[0m:\u001b[34mDRV\u001b[0m:  SLURM is being run in background\n",
      "\u001b[1;30mINFO\u001b[0m:\u001b[34mDRV\u001b[0m:  Connecting to 134.134.68.81:44961\n",
      "\u001b[1;30mINFO\u001b[0m:\u001b[34mDRV\u001b[0m:      Host server up..............Done 0.11s\n",
      "\u001b[1;30mINFO\u001b[0m:\u001b[34mDRV\u001b[0m:      Compiling snips.............Done 0.19s\n",
      "\u001b[1;30mINFO\u001b[0m:\u001b[34mDRV\u001b[0m:      Encoding axons/synapses.....Done 1.45ms\n",
      "\u001b[1;30mINFO\u001b[0m:\u001b[34mDRV\u001b[0m:      Encoding probes.............Done 0.11ms\n",
      "\u001b[1;30mINFO\u001b[0m:\u001b[34mDRV\u001b[0m:      Booting up..................Done 2.59s\n",
      "\u001b[1;30mINFO\u001b[0m:\u001b[34mDRV\u001b[0m:      Transferring probes.........Done 3.01ms\n",
      "\u001b[1;30mINFO\u001b[0m:\u001b[34mDRV\u001b[0m:      Configuring registers.......Done 3.32ms\n",
      "\u001b[1;30mINFO\u001b[0m:\u001b[34mDRV\u001b[0m:      Transferring spikes.........Done 1.61ms\n",
      "\u001b[1;30mINFO\u001b[0m:\u001b[34mDRV\u001b[0m:      Executing...................Done 5.74ms\n",
      "\u001b[1;30mINFO\u001b[0m:\u001b[34mDRV\u001b[0m:      Processing timeseries.......Done 1.38ms\n",
      "\u001b[1;30mINFO\u001b[0m:\u001b[34mDRV\u001b[0m:  Executor: 100 timesteps.........Done 2.93s\n",
      "A spike times: [10, 20]\n",
      "B spike times: [10, 30]\n",
      "AND spike times: (array([12]),)\n",
      "OR spike times: (array([12, 22, 32]),)\n"
     ]
    }
   ],
   "source": [
    "# make the input and output compartments\n",
    "compA, compB = makeInputCompartments(net)\n",
    "compAndOut, compOrOut = makeOutputCompartments(net)\n",
    "\n",
    "# connect them to the module\n",
    "compA.connect(myModule.inputs.a)\n",
    "compB.connect(myModule.inputs.b)\n",
    "\n",
    "myModule.outputs.andGate.connect(compAndOut, prototype=connProto)\n",
    "myModule.outputs.orGate.connect(compOrOut, prototype=connProto)\n",
    "\n",
    "# Run the network as before\n",
    "stimulateAndRun(compA, compB, compAndOut, compOrOut, net)"
   ]
  }
 ],
 "metadata": {
  "kernelspec": {
   "display_name": "Python 3",
   "language": "python",
   "name": "python3"
  },
  "language_info": {
   "codemirror_mode": {
    "name": "ipython",
    "version": 3
   },
   "file_extension": ".py",
   "mimetype": "text/x-python",
   "name": "python",
   "nbconvert_exporter": "python",
   "pygments_lexer": "ipython3",
   "version": "3.5.2"
  }
 },
 "nbformat": 4,
 "nbformat_minor": 2
}
