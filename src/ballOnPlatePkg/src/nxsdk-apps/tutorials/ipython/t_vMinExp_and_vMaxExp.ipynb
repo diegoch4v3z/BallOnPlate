{
 "cells": [
  {
   "cell_type": "code",
   "execution_count": 1,
   "metadata": {},
   "outputs": [],
   "source": [
    "# INTEL CORPORATION CONFIDENTIAL AND PROPRIETARY\n",
    "# \n",
    "# Copyright © 2019-2021 Intel Corporation.\n",
    "# \n",
    "# This software and the related documents are Intel copyrighted\n",
    "# materials, and your use of them is governed by the express \n",
    "# license under which they were provided to you (License). Unless\n",
    "# the License provides otherwise, you may not use, modify, copy, \n",
    "# publish, distribute, disclose or transmit  this software or the\n",
    "# related documents without Intel's prior written permission.\n",
    "# \n",
    "# This software and the related documents are provided as is, with\n",
    "# no express or implied warranties, other than those that are \n",
    "# expressly stated in the License."
   ]
  },
  {
   "cell_type": "code",
   "execution_count": 2,
   "metadata": {},
   "outputs": [],
   "source": [
    "import matplotlib.pyplot as plt\n",
    "import numpy as np\n",
    "import nxsdk.api.n2a as nx\n",
    "from nxsdk.utils.plotutils import plotRaster"
   ]
  },
  {
   "cell_type": "markdown",
   "metadata": {},
   "source": [
    "# vMinExp and vMaxExp Setup\n",
    "This tutorial demonstrates the usage of vMaxExp and vMinExp in compartments. vMaxExp determines the maximum voltage vMax that a compartment saturates at, and vMinExp determines the minimum saturated voltage vMin with vMax=$2^{MaxExp}$−1 and vMin=$2^{vMinExp}$+1.\n",
    "vMaxExp and vMinExp can be used to limit how strongly a compartment can be excited/inhibited to stop a neuron from positively/negatively accumulating. In a non-spiking multi compartment-neuron, the maximum/minmum value can be passed on to the parent or soma compartment to reset the voltage.\n",
    "## Create two compartments\n",
    "We illustrate vMaxExp and vMinExp settings in two compartments. Since each core can set only one vMaxExp value and one vMinExp value in the dendriteSharedCfg file, we set the two compartments in different cores. The threshold is set to a very large number to prevent compartments spiking before their voltage saturate.\n",
    "\n",
    "vMaxExp has limited precision, and can only take one of those values: 9,11,13,15,17,19,21,23. The default value of vMaxExp is 23. vMinExp has better precision than vMaxExp, and its value can be set at any integer between 0 and 23. The default value of vMinExp is also 23."
   ]
  },
  {
   "cell_type": "code",
   "execution_count": 3,
   "metadata": {},
   "outputs": [],
   "source": [
    "net = nx.NxNet()\n",
    "\n",
    "cxp0 = nx.CompartmentPrototype(vThMant=10000,\n",
    "                               vMaxExp=17,\n",
    "                               logicalCoreId=0)\n",
    "\n",
    "cxp1 = nx.CompartmentPrototype(vThMant=10000,\n",
    "                               vMinExp=16,\n",
    "                               logicalCoreId=1)\n",
    "\n",
    "cxGrp = net.createCompartmentGroup(size=2, prototype=[cxp0, cxp1], prototypeMap=[0, 1])"
   ]
  },
  {
   "cell_type": "markdown",
   "metadata": {},
   "source": [
    "## Create spike generator \n",
    "A spike generator is used to stimulate the two compartments: one gets excitatory connection and the other gets inhibitory connection."
   ]
  },
  {
   "cell_type": "code",
   "execution_count": 4,
   "metadata": {},
   "outputs": [],
   "source": [
    "# create a spike generator spikeGen that sends spike at each time step\n",
    "numPorts = 1\n",
    "spikeGen = net.createSpikeGenProcess(numPorts)\n",
    "spikeTimes = list(range(20))\n",
    "spikeGen.addSpikes([0], [spikeTimes])\n",
    "\n",
    "# connect spikeGen with compartment group cxGrp\n",
    "connProto = nx.ConnectionPrototype()\n",
    "spikeGen.connect(cxGrp, weight=np.array([200, -150]), prototype=connProto)\n",
    "\n",
    "# set up probes\n",
    "(vProbes, sProbes) = cxGrp.probe([nx.ProbeParameter.COMPARTMENT_VOLTAGE, nx.ProbeParameter.SPIKE])"
   ]
  },
  {
   "cell_type": "markdown",
   "metadata": {},
   "source": [
    "## Run network\n",
    "As printed below, the excitatory compartment voltage saturates at 131071(=$2^{17}$−1), and the inhibitory compartment voltage saturates at -65535(=$2^{16}$+1). "
   ]
  },
  {
   "cell_type": "code",
   "execution_count": 5,
   "metadata": {},
   "outputs": [
    {
     "name": "stdout",
     "output_type": "stream",
     "text": [
      "WARNING:DRV:  elementType would be deprecated in 0.9 in favor of messageSize, which provides more flexibility\n",
      "INFO:DRV:  SLURM is being run in background\n",
      "INFO:DRV:  Connecting to 134.134.68.81:33019\n",
      "INFO:DRV:      Host server up..............Done 0.19s\n",
      "INFO:DRV:      Encoding axons/synapses.....Done 1.23ms\n",
      "INFO:DRV:      Compiling Embedded snips....Done 0.17s\n",
      "INFO:DRV:      Encoding probes.............Done 0.12ms\n",
      "INFO:DRV:      Booting up..................Done 2.70s\n",
      "INFO:DRV:      Configuring registers.......Done 3.74ms\n",
      "INFO:DRV:      Transferring spikes.........Done 1.49ms\n",
      "INFO:DRV:      Transferring probes.........Done 2.42ms\n",
      "INFO:DRV:      Executing...................Done 3.10ms\n",
      "INFO:DRV:      Processing timeseries.......Done 6.08ms\n",
      "INFO:DRV:  Executor: 20 timesteps..........Done 3.10s\n",
      "vMax of cxGrp[0] is:  131071\n",
      "vMin of cxGrp[1] is:  -65535\n"
     ]
    }
   ],
   "source": [
    "net.run(20)\n",
    "net.disconnect()\n",
    "\n",
    "print('vMax of cxGrp[0] is: ', vProbes[0].data[19])\n",
    "print('vMin of cxGrp[1] is: ', vProbes[1].data[19])"
   ]
  },
  {
   "cell_type": "markdown",
   "metadata": {},
   "source": [
    "## Show results"
   ]
  },
  {
   "cell_type": "code",
   "execution_count": 6,
   "metadata": {
    "scrolled": true
   },
   "outputs": [
    {
     "data": {
      "image/png": "[encoded data removed]",
      "text/plain": [
       "<Figure size 1080x360 with 2 Axes>"
      ]
     },
     "metadata": {},
     "output_type": "display_data"
    }
   ],
   "source": [
    "# fig = plt.figure(1, figsize=(18,10))\n",
    "fig = plt.figure(1, figsize=(15,5))\n",
    "# Plot source spikes\n",
    "plt.subplot(2,1,1)\n",
    "plotRaster([spikeTimes])\n",
    "plt.ylabel('Port index')\n",
    "plt.title('Source spikes')\n",
    "# Plot compartmentVoltages\n",
    "ax2 = plt.subplot(2,1,2)\n",
    "vh = vProbes.plot()\n",
    "ax2.legend(vh, ['cxGrp[0]', 'cxGrp[1]'])\n",
    "\n",
    "plt.show()"
   ]
  },
  {
   "cell_type": "markdown",
   "metadata": {},
   "source": [
    ".. code-links:: python clear"
   ]
  }
 ],
 "metadata": {
  "kernelspec": {
   "display_name": "Python 3",
   "language": "python",
   "name": "python3"
  },
  "language_info": {
   "codemirror_mode": {
    "name": "ipython",
    "version": 3
   },
   "file_extension": ".py",
   "mimetype": "text/x-python",
   "name": "python",
   "nbconvert_exporter": "python",
   "pygments_lexer": "ipython3",
   "version": "3.5.2"
  }
 },
 "nbformat": 4,
 "nbformat_minor": 2
}
