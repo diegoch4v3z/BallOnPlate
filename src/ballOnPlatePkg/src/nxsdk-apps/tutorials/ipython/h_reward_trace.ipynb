{
 "cells": [
  {
   "cell_type": "code",
   "execution_count": 1,
   "metadata": {},
   "outputs": [],
   "source": [
    "# INTEL CORPORATION CONFIDENTIAL AND PROPRIETARY\n",
    "# \n",
    "# Copyright © 2018-2021 Intel Corporation.\n",
    "# \n",
    "# This software and the related documents are Intel copyrighted\n",
    "# materials, and your use of them is governed by the express \n",
    "# license under which they were provided to you (License). Unless\n",
    "# the License provides otherwise, you may not use, modify, copy, \n",
    "# publish, distribute, disclose or transmit  this software or the\n",
    "# related documents without Intel's prior written permission.\n",
    "# \n",
    "# This software and the related documents are provided as is, with\n",
    "# no express or implied warranties, other than those that are \n",
    "# expressly stated in the License."
   ]
  },
  {
   "cell_type": "markdown",
   "metadata": {},
   "source": [
    "# Reward Trace\n",
    "This tutorial shows how a reward signal influnces a learning enabled connection between two neurons. The reward axon ID starts at address 4096, so if the reward signal is sent through SNIPs, the offset 4096 should be added on top of the corresponding reward register address."
   ]
  },
  {
   "cell_type": "code",
   "execution_count": 2,
   "metadata": {},
   "outputs": [],
   "source": [
    "import nxsdk.api.n2a as nx\n",
    "import matplotlib.pyplot as plt"
   ]
  },
  {
   "cell_type": "markdown",
   "metadata": {},
   "source": [
    "## Network Architecture\n",
    "\n",
    "The following is an illustration of the network used in the tutorial:\n",
    "![Reward Trace](figures/jupyter_reward_trace.png)\n",
    "\n",
    "In the above diagram, there are three neurons: Compartment 1(c1), Compartment 2(c2) and Compartment 3(c3). C1 fires immedieately when Reward Spikes Generator sends a spike, then propogate the reward signal to the learning enabled connection between c2 and c3. The propagation of the reward signal is passed through the reinforcement Channel that is embedded in the Learning Rule defined between c2 and c3.   \n",
    "## Setup and Configure Network"
   ]
  },
  {
   "cell_type": "code",
   "execution_count": 3,
   "metadata": {},
   "outputs": [],
   "source": [
    "net = nx.NxNet()"
   ]
  },
  {
   "cell_type": "markdown",
   "metadata": {},
   "source": [
    "### Setup Compartment Prototypes\n",
    "\n",
    "Compartment parameters are defined as follows:\n",
    "- vThMant: Actual numerical threshold is 150*(2^6) = 9600."
   ]
  },
  {
   "cell_type": "code",
   "execution_count": 4,
   "metadata": {},
   "outputs": [],
   "source": [
    "pbasic = nx.CompartmentPrototype(vThMant=150,\n",
    "                                 compartmentCurrentDecay=3276,\n",
    "                                 compartmentVoltageDecay=3276)"
   ]
  },
  {
   "cell_type": "markdown",
   "metadata": {},
   "source": [
    "### Setup Learning Rule and Connection Prototypes\n",
    "A basic learning rule used for weight $w$ variable is given by: $dw=u_0\\cdot r_1$, where the synaptic weight is adjusted on the existence of a reinforcement signal.\n",
    "There are two types of connecton used in this tutorial: Reward Connection without learning and Connecton 2 to 3 with learning."
   ]
  },
  {
   "cell_type": "code",
   "execution_count": 5,
   "metadata": {},
   "outputs": [],
   "source": [
    "lr = net.createLearningRule(dw='u0*r1',\n",
    "                            x1Impulse=40,\n",
    "                            x1TimeConstant=4,\n",
    "                            y1Impulse=40,\n",
    "                            y1TimeConstant=4,\n",
    "                            r1Impulse=20,\n",
    "                            r1TimeConstant=4,\n",
    "                            tEpoch=2)\n",
    "\n",
    "connProto0 = nx.ConnectionPrototype(weight=50, enableLearning=1,\n",
    "                                    learningRule=lr,numTagBits=8,\n",
    "                                    signMode=nx.SYNAPSE_SIGN_MODE.MIXED)\n",
    "\n",
    "connProto1 = nx.ConnectionPrototype(weight=200, numTagBits=8)"
   ]
  },
  {
   "cell_type": "markdown",
   "metadata": {},
   "source": [
    "### Create Compartments and Connections"
   ]
  },
  {
   "cell_type": "code",
   "execution_count": 6,
   "metadata": {},
   "outputs": [],
   "source": [
    "# Create Compartments\n",
    "c1 = net.createCompartment(pbasic)\n",
    "c2 = net.createCompartment(pbasic)\n",
    "c3 = net.createCompartment(pbasic)\n",
    "\n",
    "# Create Connections\n",
    "conn23 = c2.connect(c3, connProto0)"
   ]
  },
  {
   "cell_type": "markdown",
   "metadata": {},
   "source": [
    "### Create and Connect Spike Generators"
   ]
  },
  {
   "cell_type": "code",
   "execution_count": 7,
   "metadata": {},
   "outputs": [],
   "source": [
    "numPorts = 1\n",
    "\n",
    "# Reward spike at 26\n",
    "rewardTime = [26]\n",
    "spikeGenReward = net.createSpikeGenProcess(numPorts)\n",
    "spikeGenReward.addSpikes([0], [rewardTime])\n",
    "connRewardSpikeToC1 = spikeGenReward.connect(c1, prototype=connProto1)\n",
    "connC1ToLrnRule = c1.connect(lr.reinforcementChannel, prototype=connProto0)"
   ]
  },
  {
   "cell_type": "markdown",
   "metadata": {},
   "source": [
    "## Configure Probes\n",
    "\n",
    "Probe the behavior of compartment 1 (c1), the learning connection (conn23), and the reward connection."
   ]
  },
  {
   "cell_type": "code",
   "execution_count": 8,
   "metadata": {},
   "outputs": [],
   "source": [
    "c1Probes = c1.probe([nx.ProbeParameter.SPIKE])\n",
    "\n",
    "conn23PrbSyn = conn23.probe([nx.ProbeParameter.SYNAPSE_WEIGHT])\n",
    "\n",
    "rewardProbe = connC1ToLrnRule.probe([nx.ProbeParameter.REWARD_TRACE])"
   ]
  },
  {
   "cell_type": "markdown",
   "metadata": {},
   "source": [
    "## Run the Network\n",
    "\n",
    "Run the network for 100 timesteps."
   ]
  },
  {
   "cell_type": "code",
   "execution_count": 9,
   "metadata": {},
   "outputs": [
    {
     "name": "stdout",
     "output_type": "stream",
     "text": [
      "\u001b[1;30mINFO\u001b[0m:\u001b[34mDRV\u001b[0m:  SLURM is being run in background\n",
      "\u001b[1;30mINFO\u001b[0m:\u001b[34mDRV\u001b[0m:  Connecting to 134.134.68.81:18861\n",
      "\u001b[1;30mINFO\u001b[0m:\u001b[34mDRV\u001b[0m:  N2Driver: Running...\n",
      "\u001b[1;30mINFO\u001b[0m:\u001b[34mDRV\u001b[0m:      Compiling synapses... Done (0.00s)\n",
      "\u001b[1;30mINFO\u001b[0m:\u001b[34mDRV\u001b[0m:      Processing probes... Done (0.00s)\n",
      "\u001b[1;30mINFO\u001b[0m:\u001b[34mDRV\u001b[0m:      Writing modified registers... Done (0.01s)\n",
      "\u001b[1;30mINFO\u001b[0m:\u001b[34mDRV\u001b[0m:      Initializing... Done (0.01s)\n",
      "\u001b[1;30mINFO\u001b[0m:\u001b[34mDRV\u001b[0m:      Preparing input... Done (0.01s)\n",
      "\u001b[1;30mINFO\u001b[0m:\u001b[34mDRV\u001b[0m:      Executing... Done (0.06s)\n",
      "\u001b[1;30mINFO\u001b[0m:\u001b[34mDRV\u001b[0m:      Processing timeSeries... Done (0.01s)\n",
      "\u001b[1;30mINFO\u001b[0m:\u001b[34mDRV\u001b[0m:  N2Driver: Finished (0.11s)\n"
     ]
    }
   ],
   "source": [
    "runTime = 100\n",
    "net.run(runTime)\n",
    "net.disconnect()"
   ]
  },
  {
   "cell_type": "markdown",
   "metadata": {},
   "source": [
    "## Plot the Results\n",
    "\n",
    "The reward spike is injected at timestep 26, when the reward trace starts. The synaptic weight also increases due to the non-zero reward trace."
   ]
  },
  {
   "cell_type": "code",
   "execution_count": 10,
   "metadata": {},
   "outputs": [
    {
     "data": {
      "image/png": "[encoded data removed]",
      "text/plain": [
       "<Figure size 1080x720 with 3 Axes>"
      ]
     },
     "metadata": {},
     "output_type": "display_data"
    }
   ],
   "source": [
    "fig1 = plt.figure(1, figsize=(15,10))\n",
    "plt.subplot(3,1,1)\n",
    "plt.xlim([-5,105])\n",
    "c1Probes[0].plot()\n",
    "plt.title('c1 Reward Spikes')\n",
    "plt.subplot(3, 1, 2)\n",
    "conn23PrbSyn[0].plot()\n",
    "plt.title('Learning Enabled conn23')\n",
    "plt.subplot(3, 1, 3)\n",
    "rewardProbe[0].plot()\n",
    "plt.title('Reward Trace')\n",
    "plt.xlabel('Time')\n",
    "plt.show()"
   ]
  },
  {
   "cell_type": "markdown",
   "metadata": {},
   "source": [
    ".. code-links:: python clear"
   ]
  }
 ],
 "metadata": {
  "kernelspec": {
   "display_name": "Python 3",
   "language": "python",
   "name": "python3"
  },
  "language_info": {
   "codemirror_mode": {
    "name": "ipython",
    "version": 3
   },
   "file_extension": ".py",
   "mimetype": "text/x-python",
   "name": "python",
   "nbconvert_exporter": "python",
   "pygments_lexer": "ipython3",
   "version": "3.5.2"
  }
 },
 "nbformat": 4,
 "nbformat_minor": 2
}
