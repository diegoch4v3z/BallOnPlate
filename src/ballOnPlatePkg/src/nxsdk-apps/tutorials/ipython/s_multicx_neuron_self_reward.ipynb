{
 "cells": [
  {
   "cell_type": "code",
   "execution_count": 1,
   "metadata": {},
   "outputs": [],
   "source": [
    "# INTEL CORPORATION CONFIDENTIAL AND PROPRIETARY\n",
    "# \n",
    "# Copyright © 2019-2021 Intel Corporation.\n",
    "# \n",
    "# This software and the related documents are Intel copyrighted\n",
    "# materials, and your use of them is governed by the express \n",
    "# license under which they were provided to you (License). Unless\n",
    "# the License provides otherwise, you may not use, modify, copy, \n",
    "# publish, distribute, disclose or transmit  this software or the\n",
    "# related documents without Intel's prior written permission.\n",
    "# \n",
    "# This software and the related documents are provided as is, with\n",
    "# no express or implied warranties, other than those that are \n",
    "# expressly stated in the License."
   ]
  },
  {
   "cell_type": "markdown",
   "metadata": {},
   "source": [
    "## Implementation of a multi-compartment neuron with self-reward feedback"
   ]
  },
  {
   "cell_type": "markdown",
   "metadata": {},
   "source": [
    "We consider a two-compartment neuron being driven by a spike generator as shown below. The synaptic weight connecting the spike generator to the dendritic compartment is learnt by feeding back the soma spikes through a reinforcement channel. This way, the synapse gets reward spikes from soma, and learns to synchronise spikes between the dendrite and the soma (i.e., when dendrite spikes, soma spikes as well, and vice versa).<br>\n",
    "\n",
    "After a while, the system is expected to reach a steady state and synaptic weight is supposed to stabilise to a fixed value.\n",
    "\n",
    "_Please read the comments in the code as well._"
   ]
  },
  {
   "attachments": {
    "image.png": {
     "image/png": "[encoded data removed]"
    }
   },
   "cell_type": "markdown",
   "metadata": {},
   "source": [
    "![image.png](attachment:image.png)"
   ]
  },
  {
   "cell_type": "code",
   "execution_count": 2,
   "metadata": {},
   "outputs": [],
   "source": [
    "%config IPCompleter.greedy=True\n",
    "import matplotlib.pyplot as plt\n",
    "import numpy as np\n",
    "import nxsdk.api.n2a as nx\n",
    "%matplotlib notebook"
   ]
  },
  {
   "cell_type": "markdown",
   "metadata": {},
   "source": [
    "#### Translation functions for parameters"
   ]
  },
  {
   "cell_type": "code",
   "execution_count": 3,
   "metadata": {},
   "outputs": [],
   "source": [
    "# leak\n",
    "def decay_from_tau(tau):\n",
    "    val = int(1./tau * 2**12)\n",
    "    print('decay={0} from tau={1}'.format(val, tau))\n",
    "    return val\n",
    "\n",
    "# synaptic time constant\n",
    "def current_decay_from_tau(tau):\n",
    "    val = int(1./tau * 2**12)\n",
    "    print('current-decay={0} from tau={1}'.format(val, tau))\n",
    "    return val    \n",
    "\n",
    "# voltage threshold\n",
    "def vthmant_from_vth(vth):\n",
    "    val = int(vth / 2**6)\n",
    "    print('vthMant={0} from vth={1}'.format(val, vth))\n",
    "    return val\n",
    "\n",
    "# bias current\n",
    "def biasmant_from_bias(bias, biasExp=0):\n",
    "    val = int(bias / 2**biasExp)\n",
    "    print ('biasMant={0} from biasExp={1} and bias={2}'.format(val, biasExp, bias))\n",
    "    return val"
   ]
  },
  {
   "cell_type": "markdown",
   "metadata": {},
   "source": [
    "#### Instantiate NxNet"
   ]
  },
  {
   "cell_type": "code",
   "execution_count": 4,
   "metadata": {},
   "outputs": [],
   "source": [
    "net = nx.NxNet()"
   ]
  },
  {
   "cell_type": "markdown",
   "metadata": {},
   "source": [
    "#### Instantiate all required compartment prototypes"
   ]
  },
  {
   "cell_type": "code",
   "execution_count": 5,
   "metadata": {},
   "outputs": [
    {
     "name": "stdout",
     "output_type": "stream",
     "text": [
      "biasMant=0 from biasExp=0 and bias=0\n",
      "vthMant=23 from vth=1500\n",
      "decay=3723 from tau=1.1\n",
      "decay=3723 from tau=1.1\n",
      "biasMant=0 from biasExp=0 and bias=0\n",
      "vthMant=23 from vth=1500\n",
      "decay=409 from tau=10\n",
      "decay=409 from tau=10\n"
     ]
    }
   ],
   "source": [
    "# Soma prototype\n",
    "somaProto = nx.CompartmentPrototype(biasMant=biasmant_from_bias(0),\n",
    "                                    vThMant=vthmant_from_vth(1500),                              \n",
    "                                    compartmentVoltageDecay=decay_from_tau(1.1), # soma time constants are as small as\n",
    "                                    compartmentCurrentDecay=decay_from_tau(1.1), # possible so that it responds quickly\n",
    "                                    refractoryDelay=1,\n",
    "                                    functionalState=nx.COMPARTMENT_FUNCTIONAL_STATE.IDLE,\n",
    "                                    thresholdBehavior=nx.COMPARTMENT_THRESHOLD_MODE.SPIKE_AND_RESET,\n",
    "                                    enableSpikeBackprop=0\n",
    "                                   )\n",
    "\n",
    "# Dendrite prototype\n",
    "dendProto = nx.CompartmentPrototype(biasMant=biasmant_from_bias(0),\n",
    "                                    vThMant=vthmant_from_vth(1500),  # threshold for the dendrite is same as soma\n",
    "                                    compartmentVoltageDecay=decay_from_tau(10),\n",
    "                                    compartmentCurrentDecay=decay_from_tau(10),\n",
    "                                    refractoryDelay=1,\n",
    "                                    functionalState=nx.COMPARTMENT_FUNCTIONAL_STATE.IDLE,\n",
    "                                    thresholdBehavior=nx.COMPARTMENT_THRESHOLD_MODE.SPIKE_AND_RESET,\n",
    "                                    enableSpikeBackprop=1,\n",
    "                                    enableSpikeBackpropFromSelf=1\n",
    "                                   )"
   ]
  },
  {
   "cell_type": "markdown",
   "metadata": {},
   "source": [
    "#### Instantiate learning rules and connection prototypes"
   ]
  },
  {
   "cell_type": "code",
   "execution_count": 6,
   "metadata": {},
   "outputs": [],
   "source": [
    "lr = net.createLearningRule(dt='2^-6*u0*y1-2^-6*u0*t', # Dummy tag variable tracks the post-trace y1. Because, there is no post-trace probe to do this. It is not used in actual learning.\n",
    "                            dw='2^-5*u0*r1*x1-2^-6*u0*y1*x1', \n",
    "                            x1Impulse=50,\n",
    "                            x1TimeConstant=10,\n",
    "                            y1Impulse=40,\n",
    "                            y1TimeConstant=10,\n",
    "                            r1Impulse=40,\n",
    "                            r1TimeConstant=10,\n",
    "                            tEpoch=1)  # Note: The fixed point approximation of exponential decay is less accurate if tEpoch=1\n",
    "connProtoLearn = nx.ConnectionPrototype(signMode=nx.SYNAPSE_SIGN_MODE.MIXED, \n",
    "                                        weight=30, \n",
    "                                        weightExponent=-1,\n",
    "                                        enableLearning=1,\n",
    "                                        learningRule=lr,\n",
    "                                        numTagBits=8)  # High precision tag variable to keep track of y1\n",
    "connProtoGeneric = nx.ConnectionPrototype(signMode=nx.SYNAPSE_SIGN_MODE.MIXED)"
   ]
  },
  {
   "cell_type": "markdown",
   "metadata": {},
   "source": [
    "#### Create a neuron prototype and instantiate a neuron"
   ]
  },
  {
   "cell_type": "code",
   "execution_count": 7,
   "metadata": {},
   "outputs": [],
   "source": [
    "somaProto.addDendrite(dendProto, nx.COMPARTMENT_JOIN_OPERATION.ADD)\n",
    "neuronProto = nx.NeuronPrototype(somaProto)\n",
    "neuron = net.createNeuron(neuronProto)"
   ]
  },
  {
   "cell_type": "markdown",
   "metadata": {},
   "source": [
    "#### Spike generator"
   ]
  },
  {
   "cell_type": "code",
   "execution_count": 8,
   "metadata": {},
   "outputs": [],
   "source": [
    "steps = 2000\n",
    "spikegen = net.createSpikeGenProcess(numPorts=1)\n",
    "inputs = list(range(90, steps+10, 100))\n",
    "spikegen.addSpikes(spikeInputPortNodeIds=0,spikeTimes=inputs)"
   ]
  },
  {
   "cell_type": "markdown",
   "metadata": {},
   "source": [
    "#### Connect everything as needed"
   ]
  },
  {
   "cell_type": "code",
   "execution_count": 9,
   "metadata": {},
   "outputs": [],
   "source": [
    "connSpkGenToDend = spikegen.connect(neuron.dendrites[0], prototype=connProtoLearn)\n",
    "connSomaToRnfCh = neuron.soma.connect(lr.reinforcementChannel, prototype=connProtoGeneric)"
   ]
  },
  {
   "cell_type": "markdown",
   "metadata": {},
   "source": [
    "#### Setup probes"
   ]
  },
  {
   "cell_type": "code",
   "execution_count": 10,
   "metadata": {},
   "outputs": [],
   "source": [
    "vProbeSoma, uProbeSoma, sProbeSoma = neuron.soma.probe([nx.ProbeParameter.COMPARTMENT_VOLTAGE,\n",
    "                                                        nx.ProbeParameter.COMPARTMENT_CURRENT,\n",
    "                                                        nx.ProbeParameter.SPIKE])\n",
    "vProbeDend, uProbeDend, sProbeDend = neuron.dendrites[0].probe([nx.ProbeParameter.COMPARTMENT_VOLTAGE,\n",
    "                                                                nx.ProbeParameter.COMPARTMENT_CURRENT,\n",
    "                                                                nx.ProbeParameter.SPIKE])\n",
    "rewardProbe = connSomaToRnfCh.probe([nx.ProbeParameter.REWARD_TRACE])\n",
    "tagProbe  = connSpkGenToDend.probe([nx.ProbeParameter.SYNAPSE_TAG])\n",
    "weightProbe  = connSpkGenToDend.probe([nx.ProbeParameter.SYNAPSE_WEIGHT])"
   ]
  },
  {
   "cell_type": "markdown",
   "metadata": {},
   "source": [
    "#### Run and plot"
   ]
  },
  {
   "cell_type": "code",
   "execution_count": 11,
   "metadata": {
    "scrolled": false
   },
   "outputs": [
    {
     "name": "stdout",
     "output_type": "stream",
     "text": [
      "\u001b[1;30mINFO\u001b[0m:\u001b[34mDRV\u001b[0m:  SLURM is being run in background\n",
      "\u001b[1;30mINFO\u001b[0m:\u001b[34mHST\u001b[0m:  /home/szzhu/nxsdk-nxsdk/nxsdk/driver/../bin/nx_driver_server: 16: exec: /home/szzhu/nxsdk-nxsdk/nxsdk/driver/../bin/x86/nx_driver_server: not found\n",
      "\u001b[1;30mINFO\u001b[0m:\u001b[34mHST\u001b[0m:  srun: error: ncl-nuc-01: task 0: Exited with exit code 127\n",
      "\u001b[1;30mWARNING\u001b[0m:\u001b[34mDRV\u001b[0m:  \u001b[33mConnection is taking longer than usual.\u001b[0m\n",
      "\u001b[1;30mWARNING\u001b[0m:\u001b[34mDRV\u001b[0m:  \u001b[33mBoards might be busy or consider reasons below:\u001b[0m\n",
      "\u001b[1;30mWARNING\u001b[0m:\u001b[34mDRV\u001b[0m:  \u001b[33m1. If you are working on INRC Cloud, ensure setting SLURM=1.\u001b[0m\n",
      "\u001b[1;30mWARNING\u001b[0m:\u001b[34mDRV\u001b[0m:  \u001b[33m2. Run sinfo to check if all boards are down.\u001b[0m\n",
      "\u001b[1;30mWARNING\u001b[0m:\u001b[34mDRV\u001b[0m:  \u001b[33m3. Check squeue below for any unfinished jobs. Run scancel <JOBID> to cancel hung jobs.\u001b[0m\n",
      "\u001b[1;30mWARNING\u001b[0m:\u001b[34mDRV\u001b[0m:  \u001b[33mJOBID     NAME                          PARTITION TIME      NODELIST(REASON)    USER\u001b[0m\n",
      "\u001b[1;30mINFO\u001b[0m:\u001b[34mDRV\u001b[0m:      Host server up..............Done 259.46s\n",
      "\u001b[1;30mINFO\u001b[0m:\u001b[34mDRV\u001b[0m:  Executor: 2000 timesteps........Done 259.46s\n"
     ]
    },
    {
     "ename": "KeyboardInterrupt",
     "evalue": "",
     "output_type": "error",
     "traceback": [
      "\u001b[0;31m---------------------------------------------------------------------------\u001b[0m",
      "\u001b[0;31mtimeout\u001b[0m                                   Traceback (most recent call last)",
      "\u001b[0;32m~/nxsdk-nxsdk/nxsdk/driver/host_coordinator.py\u001b[0m in \u001b[0;36m_getHostAddr\u001b[0;34m(self, portId)\u001b[0m\n\u001b[1;32m    236\u001b[0m             \u001b[0;32mtry\u001b[0m\u001b[0;34m:\u001b[0m\u001b[0;34m\u001b[0m\u001b[0m\n\u001b[0;32m--> 237\u001b[0;31m                 \u001b[0mconn\u001b[0m\u001b[0;34m,\u001b[0m \u001b[0maddr\u001b[0m \u001b[0;34m=\u001b[0m \u001b[0msuperHostSocket\u001b[0m\u001b[0;34m.\u001b[0m\u001b[0maccept\u001b[0m\u001b[0;34m(\u001b[0m\u001b[0;34m)\u001b[0m\u001b[0;34m\u001b[0m\u001b[0m\n\u001b[0m\u001b[1;32m    238\u001b[0m             \u001b[0;32mexcept\u001b[0m \u001b[0msocket\u001b[0m\u001b[0;34m.\u001b[0m\u001b[0mtimeout\u001b[0m\u001b[0;34m:\u001b[0m\u001b[0;34m\u001b[0m\u001b[0m\n",
      "\u001b[0;32m/usr/lib/python3.5/socket.py\u001b[0m in \u001b[0;36maccept\u001b[0;34m(self)\u001b[0m\n\u001b[1;32m    194\u001b[0m         \"\"\"\n\u001b[0;32m--> 195\u001b[0;31m         \u001b[0mfd\u001b[0m\u001b[0;34m,\u001b[0m \u001b[0maddr\u001b[0m \u001b[0;34m=\u001b[0m \u001b[0mself\u001b[0m\u001b[0;34m.\u001b[0m\u001b[0m_accept\u001b[0m\u001b[0;34m(\u001b[0m\u001b[0;34m)\u001b[0m\u001b[0;34m\u001b[0m\u001b[0m\n\u001b[0m\u001b[1;32m    196\u001b[0m         \u001b[0;31m# If our type has the SOCK_NONBLOCK flag, we shouldn't pass it onto the\u001b[0m\u001b[0;34m\u001b[0m\u001b[0;34m\u001b[0m\u001b[0m\n",
      "\u001b[0;31mtimeout\u001b[0m: timed out",
      "\nDuring handling of the above exception, another exception occurred:\n",
      "\u001b[0;31mKeyboardInterrupt\u001b[0m                         Traceback (most recent call last)",
      "\u001b[0;32m<ipython-input-11-a3b0c5d6e47b>\u001b[0m in \u001b[0;36m<module>\u001b[0;34m\u001b[0m\n\u001b[0;32m----> 1\u001b[0;31m \u001b[0mnet\u001b[0m\u001b[0;34m.\u001b[0m\u001b[0mrun\u001b[0m\u001b[0;34m(\u001b[0m\u001b[0msteps\u001b[0m\u001b[0;34m)\u001b[0m\u001b[0;34m\u001b[0m\u001b[0m\n\u001b[0m\u001b[1;32m      2\u001b[0m \u001b[0mnet\u001b[0m\u001b[0;34m.\u001b[0m\u001b[0mdisconnect\u001b[0m\u001b[0;34m(\u001b[0m\u001b[0;34m)\u001b[0m\u001b[0;34m\u001b[0m\u001b[0m\n\u001b[1;32m      3\u001b[0m \u001b[0;34m\u001b[0m\u001b[0m\n\u001b[1;32m      4\u001b[0m \u001b[0mfig\u001b[0m \u001b[0;34m=\u001b[0m \u001b[0mplt\u001b[0m\u001b[0;34m.\u001b[0m\u001b[0mfigure\u001b[0m\u001b[0;34m(\u001b[0m\u001b[0;36m1\u001b[0m\u001b[0;34m,\u001b[0m \u001b[0mfigsize\u001b[0m\u001b[0;34m=\u001b[0m\u001b[0;34m[\u001b[0m\u001b[0;36m10\u001b[0m\u001b[0;34m,\u001b[0m \u001b[0;36m10\u001b[0m\u001b[0;34m]\u001b[0m\u001b[0;34m)\u001b[0m\u001b[0;34m\u001b[0m\u001b[0m\n\u001b[1;32m      5\u001b[0m \u001b[0max0\u001b[0m \u001b[0;34m=\u001b[0m \u001b[0mplt\u001b[0m\u001b[0;34m.\u001b[0m\u001b[0msubplot\u001b[0m\u001b[0;34m(\u001b[0m\u001b[0;36m6\u001b[0m\u001b[0;34m,\u001b[0m \u001b[0;36m1\u001b[0m\u001b[0;34m,\u001b[0m \u001b[0;36m1\u001b[0m\u001b[0;34m)\u001b[0m\u001b[0;34m\u001b[0m\u001b[0m\n",
      "\u001b[0;32m~/nxsdk-nxsdk/nxsdk/net/runnable_nxnet.py\u001b[0m in \u001b[0;36mrun\u001b[0;34m(self, numSteps, compilerOptions, executionOptions, lmtOptions)\u001b[0m\n\u001b[1;32m    150\u001b[0m             \u001b[0mnumSteps\u001b[0m \u001b[0;34m=\u001b[0m \u001b[0;36m2\u001b[0m\u001b[0;34m**\u001b[0m\u001b[0;36m31\u001b[0m \u001b[0;34m-\u001b[0m \u001b[0;36m1\u001b[0m\u001b[0;34m\u001b[0m\u001b[0m\n\u001b[1;32m    151\u001b[0m \u001b[0;34m\u001b[0m\u001b[0m\n\u001b[0;32m--> 152\u001b[0;31m         \u001b[0mboard\u001b[0m\u001b[0;34m.\u001b[0m\u001b[0mrun\u001b[0m\u001b[0;34m(\u001b[0m\u001b[0mnumSteps\u001b[0m\u001b[0;34m,\u001b[0m \u001b[0;34m**\u001b[0m\u001b[0mexecutionOptions\u001b[0m\u001b[0;34m)\u001b[0m\u001b[0;34m\u001b[0m\u001b[0m\n\u001b[0m\u001b[1;32m    153\u001b[0m \u001b[0;34m\u001b[0m\u001b[0m\n\u001b[1;32m    154\u001b[0m     \u001b[0;32mdef\u001b[0m \u001b[0mrunAsync\u001b[0m\u001b[0;34m(\u001b[0m\u001b[0mself\u001b[0m\u001b[0;34m,\u001b[0m \u001b[0mnumSteps\u001b[0m\u001b[0;34m=\u001b[0m\u001b[0;32mNone\u001b[0m\u001b[0;34m,\u001b[0m \u001b[0;34m*\u001b[0m\u001b[0;34m,\u001b[0m \u001b[0mcompilerOptions\u001b[0m\u001b[0;34m=\u001b[0m\u001b[0;32mNone\u001b[0m\u001b[0;34m,\u001b[0m \u001b[0mexecutionOptions\u001b[0m\u001b[0;34m=\u001b[0m\u001b[0;34m{\u001b[0m\u001b[0;34m}\u001b[0m\u001b[0;34m,\u001b[0m \u001b[0mlmtOptions\u001b[0m\u001b[0;34m=\u001b[0m\u001b[0;32mNone\u001b[0m\u001b[0;34m)\u001b[0m\u001b[0;34m:\u001b[0m\u001b[0;34m\u001b[0m\u001b[0m\n",
      "\u001b[0;32m~/nxsdk-nxsdk/nxsdk/graph/nxboard.py\u001b[0m in \u001b[0;36mrun\u001b[0;34m(self, numSteps, aSync, maxTimeInterval, generateCfg, cfgPath, partition)\u001b[0m\n\u001b[1;32m    259\u001b[0m                         \u001b[0mnumSteps\u001b[0m\u001b[0;34m=\u001b[0m\u001b[0mnumSteps\u001b[0m\u001b[0;34m,\u001b[0m\u001b[0;34m\u001b[0m\u001b[0m\n\u001b[1;32m    260\u001b[0m                         \u001b[0maSync\u001b[0m\u001b[0;34m=\u001b[0m\u001b[0maSync\u001b[0m\u001b[0;34m,\u001b[0m\u001b[0;34m\u001b[0m\u001b[0m\n\u001b[0;32m--> 261\u001b[0;31m                         traceDirectory=traceDirectory)\n\u001b[0m\u001b[1;32m    262\u001b[0m         \u001b[0;32melse\u001b[0m\u001b[0;34m:\u001b[0m\u001b[0;34m\u001b[0m\u001b[0m\n\u001b[1;32m    263\u001b[0m             \u001b[0;32mwith\u001b[0m \u001b[0msetEnvWithinContext\u001b[0m\u001b[0;34m(\u001b[0m\u001b[0mPARTITION\u001b[0m\u001b[0;34m=\u001b[0m\u001b[0mpartition\u001b[0m\u001b[0;34m)\u001b[0m\u001b[0;34m:\u001b[0m\u001b[0;34m\u001b[0m\u001b[0m\n",
      "\u001b[0;32m~/nxsdk-nxsdk/nxsdk/graph/nxboard.py\u001b[0m in \u001b[0;36m_run\u001b[0;34m(self, numSteps, aSync, traceDirectory)\u001b[0m\n\u001b[1;32m    229\u001b[0m             \u001b[0;32mif\u001b[0m \u001b[0;32mnot\u001b[0m \u001b[0mself\u001b[0m\u001b[0;34m.\u001b[0m\u001b[0mexecutor\u001b[0m\u001b[0;34m.\u001b[0m\u001b[0mhasStarted\u001b[0m\u001b[0;34m(\u001b[0m\u001b[0;34m)\u001b[0m\u001b[0;34m:\u001b[0m\u001b[0;34m\u001b[0m\u001b[0m\n\u001b[1;32m    230\u001b[0m                 ExecutionBootstrapper.bootstrap(\n\u001b[0;32m--> 231\u001b[0;31m                     self, traceDirectory=traceDirectory)\n\u001b[0m\u001b[1;32m    232\u001b[0m             \u001b[0mself\u001b[0m\u001b[0;34m.\u001b[0m\u001b[0mexecutor\u001b[0m\u001b[0;34m.\u001b[0m\u001b[0mstart\u001b[0m\u001b[0;34m(\u001b[0m\u001b[0mnumSteps\u001b[0m\u001b[0;34m,\u001b[0m \u001b[0maSync\u001b[0m\u001b[0;34m)\u001b[0m\u001b[0;34m\u001b[0m\u001b[0m\n\u001b[1;32m    233\u001b[0m \u001b[0;34m\u001b[0m\u001b[0m\n",
      "\u001b[0;32m~/nxsdk-nxsdk/nxsdk/driver/execution_bootstrapper.py\u001b[0m in \u001b[0;36mbootstrap\u001b[0;34m(nxboard, traceDirectory)\u001b[0m\n\u001b[1;32m     36\u001b[0m         \u001b[0mhostCoordinator\u001b[0m \u001b[0;34m=\u001b[0m \u001b[0mHostCoordinator\u001b[0m\u001b[0;34m(\u001b[0m\u001b[0mtraceDirectory\u001b[0m\u001b[0;34m=\u001b[0m\u001b[0mtraceDirectory\u001b[0m\u001b[0;34m)\u001b[0m\u001b[0;34m\u001b[0m\u001b[0m\n\u001b[1;32m     37\u001b[0m         \u001b[0;32mwith\u001b[0m \u001b[0mHostConstraintRequest\u001b[0m\u001b[0;34m(\u001b[0m\u001b[0mnxboard\u001b[0m\u001b[0;34m,\u001b[0m \u001b[0mhostCoordinator\u001b[0m\u001b[0;34m)\u001b[0m\u001b[0;34m:\u001b[0m\u001b[0;34m\u001b[0m\u001b[0m\n\u001b[0;32m---> 38\u001b[0;31m             \u001b[0mhostCoordinator\u001b[0m\u001b[0;34m.\u001b[0m\u001b[0mconnect\u001b[0m\u001b[0;34m(\u001b[0m\u001b[0;34m)\u001b[0m\u001b[0;34m\u001b[0m\u001b[0m\n\u001b[0m\u001b[1;32m     39\u001b[0m         \u001b[0mrpc\u001b[0m \u001b[0;34m=\u001b[0m \u001b[0mhostCoordinator\u001b[0m\u001b[0;34m.\u001b[0m\u001b[0mservice\u001b[0m\u001b[0;34m\u001b[0m\u001b[0m\n\u001b[1;32m     40\u001b[0m         \u001b[0mboardConfiguration\u001b[0m \u001b[0;34m=\u001b[0m \u001b[0mhostCoordinator\u001b[0m\u001b[0;34m.\u001b[0m\u001b[0mboardConfiguration\u001b[0m\u001b[0;34m\u001b[0m\u001b[0m\n",
      "\u001b[0;32m~/nxsdk-nxsdk/nxsdk/driver/host_coordinator.py\u001b[0m in \u001b[0;36mconnect\u001b[0;34m(self)\u001b[0m\n\u001b[1;32m     65\u001b[0m                 \u001b[0;32mtry\u001b[0m\u001b[0;34m:\u001b[0m\u001b[0;34m\u001b[0m\u001b[0m\n\u001b[1;32m     66\u001b[0m                     self.hostAddr, remoteHostPort = self._getHostAddr(\n\u001b[0;32m---> 67\u001b[0;31m                         self.LOCAL_PORT_ID)\n\u001b[0m\u001b[1;32m     68\u001b[0m                 \u001b[0;32mexcept\u001b[0m \u001b[0msocket\u001b[0m\u001b[0;34m.\u001b[0m\u001b[0merror\u001b[0m \u001b[0;32mas\u001b[0m \u001b[0me\u001b[0m\u001b[0;34m:\u001b[0m\u001b[0;34m\u001b[0m\u001b[0m\n\u001b[1;32m     69\u001b[0m                     \u001b[0;32mif\u001b[0m \u001b[0me\u001b[0m\u001b[0;34m.\u001b[0m\u001b[0merrno\u001b[0m \u001b[0;34m==\u001b[0m \u001b[0msocket\u001b[0m\u001b[0;34m.\u001b[0m\u001b[0merrno\u001b[0m\u001b[0;34m.\u001b[0m\u001b[0mEADDRINUSE\u001b[0m\u001b[0;34m:\u001b[0m\u001b[0;34m\u001b[0m\u001b[0m\n",
      "\u001b[0;32m~/nxsdk-nxsdk/nxsdk/driver/host_coordinator.py\u001b[0m in \u001b[0;36m_getHostAddr\u001b[0;34m(self, portId)\u001b[0m\n\u001b[1;32m    254\u001b[0m                     \u001b[0mself\u001b[0m\u001b[0;34m.\u001b[0m\u001b[0mlogger\u001b[0m\u001b[0;34m.\u001b[0m\u001b[0mwarning\u001b[0m\u001b[0;34m(\u001b[0m\u001b[0mline\u001b[0m\u001b[0;34m)\u001b[0m\u001b[0;34m\u001b[0m\u001b[0m\n\u001b[1;32m    255\u001b[0m                 \u001b[0msuperHostSocket\u001b[0m\u001b[0;34m.\u001b[0m\u001b[0msettimeout\u001b[0m\u001b[0;34m(\u001b[0m\u001b[0;32mNone\u001b[0m\u001b[0;34m)\u001b[0m\u001b[0;34m\u001b[0m\u001b[0m\n\u001b[0;32m--> 256\u001b[0;31m                 \u001b[0mconn\u001b[0m\u001b[0;34m,\u001b[0m \u001b[0maddr\u001b[0m \u001b[0;34m=\u001b[0m \u001b[0msuperHostSocket\u001b[0m\u001b[0;34m.\u001b[0m\u001b[0maccept\u001b[0m\u001b[0;34m(\u001b[0m\u001b[0;34m)\u001b[0m\u001b[0;34m\u001b[0m\u001b[0m\n\u001b[0m\u001b[1;32m    257\u001b[0m \u001b[0;34m\u001b[0m\u001b[0m\n\u001b[1;32m    258\u001b[0m             \u001b[0;32mwith\u001b[0m \u001b[0mconn\u001b[0m\u001b[0;34m:\u001b[0m\u001b[0;34m\u001b[0m\u001b[0m\n",
      "\u001b[0;32m/usr/lib/python3.5/socket.py\u001b[0m in \u001b[0;36maccept\u001b[0;34m(self)\u001b[0m\n\u001b[1;32m    193\u001b[0m         \u001b[0mFor\u001b[0m \u001b[0mIP\u001b[0m \u001b[0msockets\u001b[0m\u001b[0;34m,\u001b[0m \u001b[0mthe\u001b[0m \u001b[0maddress\u001b[0m \u001b[0minfo\u001b[0m \u001b[0;32mis\u001b[0m \u001b[0ma\u001b[0m \u001b[0mpair\u001b[0m \u001b[0;34m(\u001b[0m\u001b[0mhostaddr\u001b[0m\u001b[0;34m,\u001b[0m \u001b[0mport\u001b[0m\u001b[0;34m)\u001b[0m\u001b[0;34m.\u001b[0m\u001b[0;34m\u001b[0m\u001b[0m\n\u001b[1;32m    194\u001b[0m         \"\"\"\n\u001b[0;32m--> 195\u001b[0;31m         \u001b[0mfd\u001b[0m\u001b[0;34m,\u001b[0m \u001b[0maddr\u001b[0m \u001b[0;34m=\u001b[0m \u001b[0mself\u001b[0m\u001b[0;34m.\u001b[0m\u001b[0m_accept\u001b[0m\u001b[0;34m(\u001b[0m\u001b[0;34m)\u001b[0m\u001b[0;34m\u001b[0m\u001b[0m\n\u001b[0m\u001b[1;32m    196\u001b[0m         \u001b[0;31m# If our type has the SOCK_NONBLOCK flag, we shouldn't pass it onto the\u001b[0m\u001b[0;34m\u001b[0m\u001b[0;34m\u001b[0m\u001b[0m\n\u001b[1;32m    197\u001b[0m         \u001b[0;31m# new socket. We do not currently allow passing SOCK_NONBLOCK to\u001b[0m\u001b[0;34m\u001b[0m\u001b[0;34m\u001b[0m\u001b[0m\n",
      "\u001b[0;31mKeyboardInterrupt\u001b[0m: "
     ]
    }
   ],
   "source": [
    "net.run(steps)\n",
    "net.disconnect()\n",
    "\n",
    "fig = plt.figure(1, figsize=[10, 10])\n",
    "ax0 = plt.subplot(6, 1, 1)\n",
    "rewardProbe[0].plot()\n",
    "plt.title('Reward traces')\n",
    "ax1 = plt.subplot(6, 1, 2, sharex=ax0)\n",
    "weightProbe[0][0].plot()\n",
    "tagProbe[0][0].plot()\n",
    "plt.title('Learning synapse weight and (tag = y1/2^-6)')  # tag variable saturates at 8-bits. y1 might be going beyond that.\n",
    "ax2 = plt.subplot(6, 1, 3, sharex=ax0)\n",
    "vProbeSoma.plot()\n",
    "vProbeDend.plot()\n",
    "plt.title('Compartment voltage')\n",
    "ax2 = plt.subplot(6, 1, 4, sharex=ax0)\n",
    "uProbeSoma.plot()\n",
    "uProbeDend.plot()\n",
    "plt.title('Compartment current')\n",
    "ax3 = plt.subplot(6, 1, 5, sharex=ax0)\n",
    "sProbeSoma.plot()\n",
    "plt.title('Soma Spikes')\n",
    "ax3 = plt.subplot(6, 1, 6, sharex=ax0)\n",
    "sProbeDend.plot()\n",
    "plt.title('Dend Spikes')\n",
    "fig.tight_layout()"
   ]
  },
  {
   "cell_type": "code",
   "execution_count": null,
   "metadata": {},
   "outputs": [],
   "source": []
  }
 ],
 "metadata": {
  "kernelspec": {
   "display_name": "Python 3",
   "language": "python",
   "name": "python3"
  },
  "language_info": {
   "codemirror_mode": {
    "name": "ipython",
    "version": 3
   },
   "file_extension": ".py",
   "mimetype": "text/x-python",
   "name": "python",
   "nbconvert_exporter": "python",
   "pygments_lexer": "ipython3",
   "version": "3.5.2"
  }
 },
 "nbformat": 4,
 "nbformat_minor": 2
}
