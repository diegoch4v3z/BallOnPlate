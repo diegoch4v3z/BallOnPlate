{
 "cells": [
  {
   "cell_type": "code",
   "execution_count": 1,
   "metadata": {},
   "outputs": [],
   "source": [
    "# INTEL CORPORATION CONFIDENTIAL AND PROPRIETARY\n",
    "# \n",
    "# Copyright © 2019-2021 Intel Corporation.\n",
    "# \n",
    "# This software and the related documents are Intel copyrighted\n",
    "# materials, and your use of them is governed by the express \n",
    "# license under which they were provided to you (License). Unless\n",
    "# the License provides otherwise, you may not use, modify, copy, \n",
    "# publish, distribute, disclose or transmit  this software or the\n",
    "# related documents without Intel's prior written permission.\n",
    "# \n",
    "# This software and the related documents are provided as is, with\n",
    "# no express or implied warranties, other than those that are \n",
    "# expressly stated in the License."
   ]
  },
  {
   "cell_type": "code",
   "execution_count": 2,
   "metadata": {},
   "outputs": [],
   "source": [
    "import nxsdk.api.n2a as nx\n",
    "import matplotlib.pyplot as plt\n",
    "import numpy as np\n",
    "from nxsdk.compiler.nxsdkcompiler.n2_compiler_exceptions import NxBoundsValidationError"
   ]
  },
  {
   "cell_type": "markdown",
   "metadata": {},
   "source": [
    "# Connection Sharing\n",
    "This tutorial demonstrates how to use the connection sharing feature. In order to reuse connections with the same configurations, NxNet supports the concept of shared connections.  If more than one pair of compartment groups are to be connected with identical connections, instead of independently creating multiple identical sets of connections, it is possible to share one set of connections to connect all pairs of the compartment groups. Due to hardware limitations in sharing connections, there are restrictions on shared connections.  Please refer to the documentation for a complete set of restrictions."
   ]
  },
  {
   "cell_type": "markdown",
   "metadata": {},
   "source": [
    "## Network Creation Function\n",
    "This function takes a network and creates two pairs of compartment groups.  The first pair is connected in the standard way.  The second pair of compartments can either be connected in the standard way, i.e. with a new set of connections, or connected through connection sharing.  "
   ]
  },
  {
   "cell_type": "code",
   "execution_count": 3,
   "metadata": {},
   "outputs": [],
   "source": [
    "def createBasicNetwork(net, grpSize=5, connSharing=True):\n",
    "    \"\"\"Create basic network for testing.  grpSize should be a multiple of 5.\"\"\"\n",
    "\n",
    "    assert grpSize % 5 == 0, \"In this example, grpSize should be a multiple of 5.\"\n",
    "\n",
    "    # Setup compartment prototypes\n",
    "    prototype1a = nx.CompartmentPrototype(biasMant=1, biasExp=6, vThMant=10,\n",
    "                                          functionalState=2,\n",
    "                                          compartmentVoltageDecay=300,\n",
    "                                          compartmentCurrentDecay=410)\n",
    "\n",
    "    prototype1b = nx.CompartmentPrototype(biasMant=1, biasExp=6, vThMant=10,\n",
    "                                          functionalState=2,\n",
    "                                          compartmentVoltageDecay=320,\n",
    "                                          compartmentCurrentDecay=410)\n",
    "\n",
    "    prototype1c = nx.CompartmentPrototype(biasMant=1, biasExp=6, vThMant=10,\n",
    "                                          functionalState=2,\n",
    "                                          compartmentVoltageDecay=340,\n",
    "                                          compartmentCurrentDecay=410)\n",
    "\n",
    "    prototype1d = nx.CompartmentPrototype(biasMant=1, biasExp=6, vThMant=10,\n",
    "                                          functionalState=2,\n",
    "                                          compartmentVoltageDecay=360,\n",
    "                                          compartmentCurrentDecay=410)\n",
    "\n",
    "    prototype1e = nx.CompartmentPrototype(biasMant=1, biasExp=6, vThMant=10,\n",
    "                                          functionalState=2,\n",
    "                                          compartmentVoltageDecay=380,\n",
    "                                          compartmentCurrentDecay=410)\n",
    "\n",
    "    prototype2 = nx.CompartmentPrototype(vThMant=50,\n",
    "                                         compartmentVoltageDecay=4095,\n",
    "                                         compartmentCurrentDecay=4095)\n",
    "\n",
    "    protoList = [prototype1a, prototype1b, prototype1c, prototype1d,\n",
    "                 prototype1e]\n",
    "    protoMapBase = np.array([[0, 1, 2, 3, 4]])\n",
    "    protoMap = np.repeat(protoMapBase, grpSize // 5, axis=0)\n",
    "    protoMap = protoMap.flatten().tolist()\n",
    "\n",
    "    # Create first source compartment group\n",
    "    cg1 = net.createCompartmentGroup(size=grpSize,\n",
    "                                     prototype=protoList,\n",
    "                                     prototypeMap=protoMap)\n",
    "    # Create first destination compartment group\n",
    "    cg2 = net.createCompartmentGroup(size=grpSize, prototype=prototype2)\n",
    "\n",
    "    # Create second source compartment group\n",
    "    cg3 = net.createCompartmentGroup(size=grpSize,\n",
    "                                     prototype=protoList,\n",
    "                                     prototypeMap=protoMap)\n",
    "    # create second destination compartment group\n",
    "    cg4 = net.createCompartmentGroup(size=grpSize, prototype=prototype2)\n",
    "\n",
    "    # Setup connection prototype\n",
    "    connProto = nx.ConnectionPrototype()\n",
    "    \n",
    "    # Connect first pair of compartment groups\n",
    "    conn = cg1.connect(cg2,\n",
    "                       prototype=connProto,\n",
    "                       weight=200 * np.identity(grpSize, dtype=int))\n",
    "\n",
    "    # Connect second pair of compartment groups (with or without connection sharing)\n",
    "    if connSharing:\n",
    "        conn = cg3.connect(cg4, sharedConnGrp=conn, synapseSharingOnly=True)\n",
    "    else:\n",
    "        conn = cg3.connect(cg4,\n",
    "                           prototype=connProto,\n",
    "                           weight=200 * np.identity(grpSize, dtype=int))\n",
    "\n",
    "    return (net, conn, cg1, cg2, cg3, cg4)"
   ]
  },
  {
   "cell_type": "markdown",
   "metadata": {},
   "source": [
    "## Create Network Without Connection Sharing\n",
    "First the network is created without the use of connection sharing.  This means that an additional set of connections are created while connecting the second pair of compartment groups.  Due to the total number of connections required, during execution an error is raised indicating that synaptic resources have been exhausted."
   ]
  },
  {
   "cell_type": "code",
   "execution_count": 4,
   "metadata": {},
   "outputs": [
    {
     "name": "stdout",
     "output_type": "stream",
     "text": [
      "\u001b[1;30mINFO\u001b[0m:\u001b[34mDRV\u001b[0m:  SLURM is being run in background\n",
      "\u001b[1;30mINFO\u001b[0m:\u001b[34mDRV\u001b[0m:  Connecting to 134.134.68.36:40053\n",
      "\u001b[1;30mINFO\u001b[0m:\u001b[34mDRV\u001b[0m:      Host server up..............Done 17.37s\n",
      "\u001b[1;30mINFO\u001b[0m:\u001b[34mDRV\u001b[0m:      Encoding axons/synapses.....Done 0.08s\n",
      "\u001b[1;30mINFO\u001b[0m:\u001b[34mDRV\u001b[0m:  Executor: 60 timesteps..........Done 17.45s\n",
      "Number of synapse mem registers exceeded. Allowed limit is 16384. There are too many synapses on a core. It may be possible to alleviate the problem by (1) using compressionMode=3 (dense), (2) reducing the bit width for weight, delay, and tag, e.g. set it to 0, if some field is not being used, or (3) distributing the network across additional logical cores to reduce the number of synapses on any given logical core.\n"
     ]
    }
   ],
   "source": [
    "# ---------------------------------------------------------------------\n",
    "# Build Network\n",
    "# ---------------------------------------------------------------------\n",
    "net = nx.NxNet()\n",
    "\n",
    "grpSize = 225\n",
    "(net, conn, cg1, cg2, cg3, cg4) = createBasicNetwork(net,\n",
    "    grpSize=grpSize, connSharing=False)\n",
    "\n",
    "sProbes = cg2.probe([nx.ProbeParameter.SPIKE])\n",
    "sProbes2 = cg4.probe([nx.ProbeParameter.SPIKE])\n",
    "\n",
    "# ---------------------------------------------------------------------\n",
    "# Run\n",
    "# ---------------------------------------------------------------------\n",
    "try:\n",
    "    net.run(60)\n",
    "except NxBoundsValidationError as e:\n",
    "    print(e)\n",
    "finally:\n",
    "    net.disconnect()"
   ]
  },
  {
   "cell_type": "markdown",
   "metadata": {},
   "source": [
    "## Create Network With Connection Sharing\n",
    "Next, the network is created with the use of connection sharing.  This means that the second pair of compartment groups is connected using the same connections used by the first pair of compartment groups.  Due to the sharing of synapses, the two pairs of compartments are successfully connected."
   ]
  },
  {
   "cell_type": "code",
   "execution_count": 5,
   "metadata": {},
   "outputs": [
    {
     "name": "stdout",
     "output_type": "stream",
     "text": [
      "\u001b[1;30mINFO\u001b[0m:\u001b[34mDRV\u001b[0m:  SLURM is being run in background\n",
      "\u001b[1;30mINFO\u001b[0m:\u001b[34mDRV\u001b[0m:  Connecting to 134.134.68.36:38947\n",
      "\u001b[1;30mINFO\u001b[0m:\u001b[34mDRV\u001b[0m:      Host server up..............Done 7.97s\n",
      "\u001b[1;30mINFO\u001b[0m:\u001b[34mDRV\u001b[0m:      Encoding axons/synapses.....Done 0.14s\n",
      "\u001b[1;30mINFO\u001b[0m:\u001b[34mDRV\u001b[0m:      Encoding probes.............Done 1.04ms\n",
      "\u001b[1;30mINFO\u001b[0m:\u001b[34mDRV\u001b[0m:      Booting up..................Done 10.22s\n",
      "\u001b[1;30mINFO\u001b[0m:\u001b[34mDRV\u001b[0m:      Transferring probes.........Done 7.25ms\n",
      "\u001b[1;30mINFO\u001b[0m:\u001b[34mDRV\u001b[0m:      Configuring registers.......Done 0.05s\n",
      "\u001b[1;30mINFO\u001b[0m:\u001b[34mDRV\u001b[0m:      Transferring spikes.........Done 0.08ms\n",
      "\u001b[1;30mINFO\u001b[0m:\u001b[34mDRV\u001b[0m:      Executing...................Done 0.08s\n",
      "\u001b[1;30mINFO\u001b[0m:\u001b[34mDRV\u001b[0m:      Processing timeseries.......Done 0.01s\n",
      "\u001b[1;30mINFO\u001b[0m:\u001b[34mDRV\u001b[0m:  Executor: 60 timesteps..........Done 18.48s\n"
     ]
    },
    {
     "data": {
      "image/png": "[encoded data removed]",
      "text/plain": [
       "<Figure size 1296x720 with 2 Axes>"
      ]
     },
     "metadata": {
      "needs_background": "light"
     },
     "output_type": "display_data"
    }
   ],
   "source": [
    "# ---------------------------------------------------------------------\n",
    "# Build Network\n",
    "# ---------------------------------------------------------------------\n",
    "net = nx.NxNet()\n",
    "\n",
    "grpSize = 225\n",
    "(net, conn, cg1, cg2, cg3, cg4) = createBasicNetwork(net,\n",
    "    grpSize=grpSize, connSharing=True)\n",
    "\n",
    "sProbes = cg2.probe([nx.ProbeParameter.SPIKE])\n",
    "sProbes2 = cg4.probe([nx.ProbeParameter.SPIKE])\n",
    "\n",
    "# ---------------------------------------------------------------------\n",
    "# Run\n",
    "# ---------------------------------------------------------------------\n",
    "net.run(60)\n",
    "net.disconnect()\n",
    "\n",
    "# ---------------------------------------------------------------------\n",
    "# Plot\n",
    "# ---------------------------------------------------------------------\n",
    "plt.figure(1, figsize=(18,10))\n",
    "ax0 = plt.subplot(1, 2, 1)\n",
    "sh = sProbes[0].plot()\n",
    "plt.title(\"Spike Raster Plot (CG2)\")\n",
    "ax0 = plt.subplot(1, 2, 2)\n",
    "sh = sProbes2[0].plot()\n",
    "plt.title(\"Spike Raster Plot (CG4)\")\n",
    "plt.show()"
   ]
  },
  {
   "cell_type": "markdown",
   "metadata": {},
   "source": [
    ".. code-links:: python clear"
   ]
  }
 ],
 "metadata": {
  "kernelspec": {
   "display_name": "Python 3",
   "language": "python",
   "name": "python3"
  },
  "language_info": {
   "codemirror_mode": {
    "name": "ipython",
    "version": 3
   },
   "file_extension": ".py",
   "mimetype": "text/x-python",
   "name": "python",
   "nbconvert_exporter": "python",
   "pygments_lexer": "ipython3",
   "version": "3.5.2"
  }
 },
 "nbformat": 4,
 "nbformat_minor": 2
}
