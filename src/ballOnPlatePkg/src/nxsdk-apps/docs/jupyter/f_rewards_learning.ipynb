{
 "cells": [
  {
   "cell_type": "code",
   "execution_count": 1,
   "metadata": {},
   "outputs": [],
   "source": [
    "# INTEL CORPORATION CONFIDENTIAL AND PROPRIETARY\n",
    "# \n",
    "# Copyright © 2018-2021 Intel Corporation.\n",
    "# \n",
    "# This software and the related documents are Intel copyrighted\n",
    "# materials, and your use of them is governed by the express \n",
    "# license under which they were provided to you (License). Unless\n",
    "# the License provides otherwise, you may not use, modify, copy, \n",
    "# publish, distribute, disclose or transmit  this software or the\n",
    "# related documents without Intel's prior written permission.\n",
    "# \n",
    "# This software and the related documents are provided as is, with\n",
    "# no express or implied warranties, other than those that are \n",
    "# expressly stated in the License."
   ]
  },
  {
   "cell_type": "markdown",
   "metadata": {},
   "source": [
    "# Learning with Rewards\n",
    "\n",
    "Loihi provides the capability to send reinforcement signals to learning enabled connections. This tutorial shows how to reinforce the contingent firing of two neurons by a delayed reward.  This is the fundamental mechanism described by Izhikevich in [1].\n",
    "\n",
    "[1] Izhikevich EM. Solving the distal reward problem through linkage of STDP\n",
    "and dopamine signaling. Cerebral Cortex. 2007; 17(10):2443-52"
   ]
  },
  {
   "cell_type": "code",
   "execution_count": 2,
   "metadata": {},
   "outputs": [],
   "source": [
    "import nxsdk.api.n2a as nx\n",
    "import matplotlib.pyplot as plt"
   ]
  },
  {
   "cell_type": "markdown",
   "metadata": {},
   "source": [
    "## Network Architecture\n",
    "\n",
    "The following figure illustrates the overview of the network:\n",
    "\n",
    "![Rewards](figures/jupyter_rewards.png)\n",
    "\n",
    "The details of the network used in the tutorial can be found in the illustration below:\n",
    "\n",
    "![Rewards Learning Tutorial](figures/rewards_learning_tutorial.png)\n",
    "\n",
    "The thresholds for compartment c1 and c2 and the synaptic weights in connections connPreSynSpikeToC2 and connPostSynSpikeToC1 are chosen so that c1 and c2 spike immediately upon receiving an incoming spike.\n",
    "\n",
    "The threshold in compartment c3 and the synaptic weights in connection conn13 and conn23 chosen so that \"post-synaptic\"\n",
    "spikes entering from conn13 result in compartment 3 spikes, while the \"pre-synaptic\" spikes entering from conn23 do not result in compartment 3 spikes."
   ]
  },
  {
   "cell_type": "markdown",
   "metadata": {},
   "source": [
    "## Setup and Configure Network"
   ]
  },
  {
   "cell_type": "code",
   "execution_count": 3,
   "metadata": {},
   "outputs": [],
   "source": [
    "net = nx.NxNet()"
   ]
  },
  {
   "cell_type": "markdown",
   "metadata": {},
   "source": [
    "### Setup Compartment Prototypes\n",
    "\n",
    "Compartment parameters are defined as follows:\n",
    "\n",
    "- vThMant: Actual numerical threshold is 150*(2^6) = 9600.\n",
    "- compartmentCurrentDecay: current decay set to the maximum decay\n",
    "- compartmentVoltageDecay: voltage decay set to the maximum decay\n",
    "- enableSpikeBackprop: Enables back propagating action potentials (post-traces)\n",
    "- enableSpikeBackpropFromSelf: Activate back propagating action potentials when the compartment spikes"
   ]
  },
  {
   "cell_type": "code",
   "execution_count": 4,
   "metadata": {},
   "outputs": [],
   "source": [
    "pbasic = nx.CompartmentPrototype(vThMant=150,\n",
    "                                 compartmentCurrentDecay=4095,\n",
    "                                 compartmentVoltageDecay=4095)\n",
    "\n",
    "plrn = nx.CompartmentPrototype(vThMant=150,\n",
    "                               compartmentCurrentDecay=4095,\n",
    "                               compartmentVoltageDecay=4095,\n",
    "                               enableSpikeBackprop=1,\n",
    "                               enableSpikeBackpropFromSelf=1)"
   ]
  },
  {
   "cell_type": "markdown",
   "metadata": {},
   "source": [
    "### Setup Learning Rule and Connection Prototypes\n",
    "The learning rules used for the tag $t$ and weight $w$ variable are given by: \n",
    "$$dt=y_0 \\cdot x_1 - x_0 \\cdot y_1 - 2^{-2}\\cdot u_0 \\cdot t$$\n",
    "$$dw=2\\cdot u_0\\cdot r_1 \\cdot t$$\n",
    "\n",
    "- dt: The tag field is used as the \"eligibility trace\" described in [1]. This is analogous to standard excitatory STDP learning rule with the exception that the weight change is not immediately stored in the weight variable but the tag variable and it decays exponentially over time. Whereas any spike induced potentiation or depression is conditioned on post or pre synaptic spikes during the learning epoch ($y_0$, $x_0$), the tag decay is unconditionally executed with a decimate exponent of 0 ($u_0$).\n",
    "\n",
    "- dw: The synaptic weight is adjusted on the existence of a reinforcement signal and the state of the tag (\"eligibility trace\").\n",
    "\n",
    "All trace variables used in the $dw$ and $dt$ equations ($x_1$, $y_1$, $r_1$) are further configured by the following parameters:\n",
    "- x1Impulse, x2Impulse, r1Impulse: The increase in the trace value on the occurrence of a pre-synaptic, post-synaptic, and reinforcement spike.  Maximum value of 127.\n",
    "\n",
    "- x1TimeConstant, x2TimeConstant, r1TimeConstant: Pre-synaptic, post-synaptic, and reward trace exponential decay time constant set to 4 time steps.\n",
    "\n",
    "Finally all learning rules leading to synaptic state updates are executed with a certain periodicity which is the duration of the learning epoch (tEpoch). This parameter should in general be set as large as possible (for faster execution) but small enough to ensure at most one spike per tEpoch. A power of two will in general be most efficient. Note: tEpoch has to be the same for all learning rules in the network."
   ]
  },
  {
   "cell_type": "code",
   "execution_count": 5,
   "metadata": {},
   "outputs": [],
   "source": [
    "lr = net.createLearningRule(dt='x1*y0-x0*y1-2^-2*u0*t',\n",
    "                            dw='2*u0*r1*t',\n",
    "                            x1Impulse=40,\n",
    "                            x1TimeConstant=4,\n",
    "                            y1Impulse=40,\n",
    "                            y1TimeConstant=4,\n",
    "                            r1Impulse=20,\n",
    "                            r1TimeConstant=4,\n",
    "                            tEpoch=2)\n",
    "\n",
    "connProto2 = nx.ConnectionPrototype(weight=50, enableLearning=1,\n",
    "                                    learningRule=lr,numTagBits=8,\n",
    "                                    signMode=nx.SYNAPSE_SIGN_MODE.EXCITATORY)\n",
    "\n",
    "connProto1 = nx.ConnectionPrototype(weight=200, numTagBits=8)"
   ]
  },
  {
   "cell_type": "markdown",
   "metadata": {},
   "source": [
    "### Create Compartments and Connections"
   ]
  },
  {
   "cell_type": "code",
   "execution_count": 6,
   "metadata": {},
   "outputs": [],
   "source": [
    "# Create Compartments\n",
    "c1 = net.createCompartment(pbasic)\n",
    "c2 = net.createCompartment(pbasic)\n",
    "c3 = net.createCompartment(plrn)\n",
    "\n",
    "# Create Connections\n",
    "conn13 = c1.connect(c3, connProto1)\n",
    "conn23 = c2.connect(c3, connProto2)"
   ]
  },
  {
   "cell_type": "markdown",
   "metadata": {},
   "source": [
    "### Create and Connect Spike Generators\n",
    "\n",
    "Configure pre-synaptic, post-synaptic, and reward spike times.  Note that the reward spike arrives later than the pre/post synaptic spikes."
   ]
  },
  {
   "cell_type": "code",
   "execution_count": 7,
   "metadata": {},
   "outputs": [],
   "source": [
    "numPorts = 1\n",
    "\n",
    "# Pre-synaptic spike\n",
    "preSynapticSpikeTime = [12]\n",
    "spikeGenPreSyn = net.createSpikeGenProcess(numPorts)\n",
    "spikeGenPreSyn.addSpikes([0], [preSynapticSpikeTime])\n",
    "connPreSynSpikeToC2 = spikeGenPreSyn.connect(c2, prototype=connProto1)\n",
    "\n",
    "# Post-synpatic spike\n",
    "postSynapticSpikeTime = [16]\n",
    "spikeGenPostSyn = net.createSpikeGenProcess(numPorts)\n",
    "spikeGenPostSyn.addSpikes([0], [postSynapticSpikeTime])\n",
    "connPostSynSpikeToC1 = spikeGenPostSyn.connect(c1, prototype=connProto1)\n",
    "\n",
    "# Reward spike\n",
    "rewardTime = [26]\n",
    "spikeGenReward = net.createSpikeGenProcess(numPorts)\n",
    "spikeGenReward.addSpikes([0], [rewardTime])\n",
    "connRewardSpikeToLrnRule = spikeGenReward.connect(lr.reinforcementChannel)"
   ]
  },
  {
   "cell_type": "markdown",
   "metadata": {},
   "source": [
    "## Configure Probes\n",
    "\n",
    "Probe the behavior of compartment 3 (c3), the learning connection (conn23), and the reward connection."
   ]
  },
  {
   "cell_type": "code",
   "execution_count": 8,
   "metadata": {},
   "outputs": [],
   "source": [
    "conn23PrbSyn = conn23.probe([nx.ProbeParameter.SYNAPSE_WEIGHT,\n",
    "                             nx.ProbeParameter.SYNAPSE_TAG])\n",
    "c3Probes = c3.probe([nx.ProbeParameter.COMPARTMENT_CURRENT,\n",
    "                     nx.ProbeParameter.COMPARTMENT_VOLTAGE,\n",
    "                     nx.ProbeParameter.SPIKE])\n",
    "rewardProbe = connRewardSpikeToLrnRule.probe([nx.ProbeParameter.REWARD_TRACE])"
   ]
  },
  {
   "cell_type": "markdown",
   "metadata": {},
   "source": [
    "## Run the Network\n",
    "\n",
    "Run the network for 100 timesteps."
   ]
  },
  {
   "cell_type": "code",
   "execution_count": 9,
   "metadata": {},
   "outputs": [
    {
     "name": "stdout",
     "output_type": "stream",
     "text": [
      "\u001b[1;30mINFO\u001b[0m:\u001b[34mDRV\u001b[0m:  SLURM is being run in background\n",
      "\u001b[1;30mINFO\u001b[0m:\u001b[34mDRV\u001b[0m:  Connecting to 134.134.68.81:18861\n",
      "\u001b[1;30mINFO\u001b[0m:\u001b[34mDRV\u001b[0m:  N2Driver: Running...\n",
      "\u001b[1;30mINFO\u001b[0m:\u001b[34mDRV\u001b[0m:      Compiling synapses... Done (0.00s)\n",
      "\u001b[1;30mINFO\u001b[0m:\u001b[34mDRV\u001b[0m:      Processing probes... Done (0.00s)\n",
      "\u001b[1;30mINFO\u001b[0m:\u001b[34mDRV\u001b[0m:      Writing modified registers... Done (0.01s)\n",
      "\u001b[1;30mINFO\u001b[0m:\u001b[34mDRV\u001b[0m:      Initializing... Done (0.01s)\n",
      "\u001b[1;30mINFO\u001b[0m:\u001b[34mDRV\u001b[0m:      Preparing input... Done (0.02s)\n",
      "\u001b[1;30mINFO\u001b[0m:\u001b[34mDRV\u001b[0m:      Executing... Done (0.07s)\n",
      "\u001b[1;30mINFO\u001b[0m:\u001b[34mDRV\u001b[0m:      Processing timeSeries... Done (0.01s)\n",
      "\u001b[1;30mINFO\u001b[0m:\u001b[34mDRV\u001b[0m:  N2Driver: Finished (0.12s)\n"
     ]
    }
   ],
   "source": [
    "runTime = 100\n",
    "net.run(runTime)\n",
    "net.disconnect()"
   ]
  },
  {
   "cell_type": "markdown",
   "metadata": {},
   "source": [
    "## Results\n",
    "\n",
    "Compartment 3 spikes at timestep 18, and due to the STDP learning rule, the tag field increases.  The reward spike is injected at timestep 26 and the reward trace increases.  The synaptic weight then also increases due to the non-zero reward trace and tag."
   ]
  },
  {
   "cell_type": "code",
   "execution_count": 10,
   "metadata": {},
   "outputs": [
    {
     "data": {
      "image/png": "[encoded data removed]",
      "text/plain": [
       "<Figure size 1080x1440 with 6 Axes>"
      ]
     },
     "metadata": {},
     "output_type": "display_data"
    }
   ],
   "source": [
    "fig1 = plt.figure(1, figsize=(15,20))\n",
    "ax0 = plt.subplot(6, 1, 1)\n",
    "c3Probes[0].plot()\n",
    "plt.title('c3 u0')\n",
    "plt.subplot(6, 1, 2)\n",
    "c3Probes[1].plot()\n",
    "plt.title('c3 v0')\n",
    "ax1 = plt.subplot(6, 1, 3)\n",
    "c3Probes[2].plot()\n",
    "ax1.set_xlim(ax0.get_xlim())\n",
    "plt.title('c3 spikes 0')\n",
    "plt.subplot(6, 1, 4)\n",
    "conn23PrbSyn[1].plot()\n",
    "plt.title('conn23 Tag (Learning Enabled)')\n",
    "plt.subplot(6, 1, 5)\n",
    "conn23PrbSyn[0].plot()\n",
    "plt.title('conn23 Wgt (Learning Enabled)')\n",
    "plt.subplot(6, 1, 6)\n",
    "rewardProbe[0].plot()\n",
    "plt.title('Reward Trace 0')\n",
    "plt.xlabel('Time')\n",
    "plt.show()"
   ]
  },
  {
   "cell_type": "markdown",
   "metadata": {},
   "source": [
    ".. code-links:: python clear"
   ]
  }
 ],
 "metadata": {
  "kernelspec": {
   "display_name": "Python 3",
   "language": "python",
   "name": "python3"
  },
  "language_info": {
   "codemirror_mode": {
    "name": "ipython",
    "version": 3
   },
   "file_extension": ".py",
   "mimetype": "text/x-python",
   "name": "python",
   "nbconvert_exporter": "python",
   "pygments_lexer": "ipython3",
   "version": "3.5.2"
  }
 },
 "nbformat": 4,
 "nbformat_minor": 2
}
