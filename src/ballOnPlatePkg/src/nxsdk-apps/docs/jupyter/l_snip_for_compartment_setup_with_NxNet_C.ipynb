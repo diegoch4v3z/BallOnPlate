{
 "cells": [
  {
   "cell_type": "code",
   "execution_count": null,
   "metadata": {},
   "outputs": [],
   "source": [
    "# INTEL CORPORATION CONFIDENTIAL AND PROPRIETARY\n",
    "# \n",
    "# Copyright © 2018-2021 Intel Corporation.\n",
    "# \n",
    "# This software and the related documents are Intel copyrighted\n",
    "# materials, and your use of them is governed by the express \n",
    "# license under which they were provided to you (License). Unless\n",
    "# the License provides otherwise, you may not use, modify, copy, \n",
    "# publish, distribute, disclose or transmit  this software or the\n",
    "# related documents without Intel's prior written permission.\n",
    "# \n",
    "# This software and the related documents are provided as is, with\n",
    "# no express or implied warranties, other than those that are \n",
    "# expressly stated in the License."
   ]
  },
  {
   "cell_type": "code",
   "execution_count": 2,
   "metadata": {},
   "outputs": [],
   "source": [
    "import nxsdk.api.n2a as nx\n",
    "import matplotlib.pyplot as plt\n",
    "import os"
   ]
  },
  {
   "cell_type": "markdown",
   "metadata": {},
   "source": [
    "# Setup Compartments with NxNet C API\n",
    "\n",
    "NxNet C API provides a way to access compartments and compartment groups through SNIP C-code. In this tutorial, we demonstrate how to use NxNet C API to setup compartments. For more details about NxNet C API, please refer to the documentation.\n",
    "\n",
    "<img src=\"../figures/jupyter_tutorial_nxnet_c_api.png\">\n",
    "\n",
    "In the below code, two compartment prototypes are created on different logicalCoreId. This is just for illustrative purpose, and it is not required that two compartments need to be on seperate cores."
   ]
  },
  {
   "cell_type": "code",
   "execution_count": 3,
   "metadata": {},
   "outputs": [],
   "source": [
    "net = nx.NxNet()\n",
    "\n",
    "# create a compartment prototype for cx0 whose parameter values are to be set in initsnip\n",
    "cxp0 = nx.CompartmentPrototype(functionalState=nx.COMPARTMENT_FUNCTIONAL_STATE.IDLE,\n",
    "                               refractoryDelay=2,\n",
    "                               logicalCoreId=0)\n",
    "\n",
    "# create a compartment prototype for cx1 \n",
    "cxp1 = nx.CompartmentPrototype(biasMant=100,\n",
    "                               biasExp=6,\n",
    "                               compartmentVoltageDecay=15,\n",
    "                               refractoryDelay=2,\n",
    "                               vThMant=1000,\n",
    "                               functionalState=nx.COMPARTMENT_FUNCTIONAL_STATE.IDLE,\n",
    "                               logicalCoreId=1)\n",
    "\n",
    "# Create compartmentGroup from the two different prototypes\n",
    "cxGrp = net.createCompartmentGroup(size=2, prototype=[cxp0, cxp1], prototypeMap=[0, 1])"
   ]
  },
  {
   "cell_type": "markdown",
   "metadata": {},
   "source": [
    "## Configure voltage and spike probes"
   ]
  },
  {
   "cell_type": "code",
   "execution_count": 4,
   "metadata": {},
   "outputs": [],
   "source": [
    "(vProbes, sProbes) = cxGrp.probe([nx.ProbeParameter.COMPARTMENT_VOLTAGE, nx.ProbeParameter.SPIKE])"
   ]
  },
  {
   "cell_type": "markdown",
   "metadata": {},
   "source": [
    "## Compile network"
   ]
  },
  {
   "cell_type": "code",
   "execution_count": 5,
   "metadata": {},
   "outputs": [],
   "source": [
    "compiler = nx.N2Compiler()\n",
    "board = compiler.compile(net)"
   ]
  },
  {
   "cell_type": "markdown",
   "metadata": {},
   "source": [
    "## Configure SNIP and channels "
   ]
  },
  {
   "cell_type": "code",
   "execution_count": 6,
   "metadata": {},
   "outputs": [
    {
     "name": "stdout",
     "output_type": "stream",
     "text": [
      "INFO:DRV:  SLURM is being run in background\n",
      "INFO:DRV:  Connecting to 134.134.68.80:18861\n"
     ]
    }
   ],
   "source": [
    "# Define directory where SNIP C-code is located\n",
    "includeDir = os.getcwd()\n",
    "\n",
    "# create a SNIP to initialize cx0. This SNIP will execute initsnip.c in init phase of the NxRuntime execution cycle\n",
    "initProcess = board.createProcess(\"initProcess\",\n",
    "                                  includeDir=includeDir,\n",
    "                                  cFilePath=includeDir + \"/initsnip.c\",\n",
    "                                  funcName=\"initParams\",\n",
    "                                  guardName=None,\n",
    "                                  phase = \"init\")\n",
    "initChannel = board.createChannel(b'nxinit', \"int\", 1)\n",
    "initChannel.connect(None, initProcess)\n",
    "\n",
    "# create a SNIP to set parameters for the whole cxGrp, and to set refractoryDelay that is specific to cx1\n",
    "# This SNIP will execute setParams.c in mgmt phase and only when guard (doSetting) is on\n",
    "settingSnip = board.createProcess(name=\"setting\",\n",
    "                                 includeDir=includeDir,\n",
    "                                 cFilePath=includeDir + \"/setParams.c\",\n",
    "                                 funcName=\"setParams\",\n",
    "                                 guardName=\"doSetting\",\n",
    "                                 phase=\"mgmt\")\n",
    "settingChannel = board.createChannel(b'settingChannel', \"int\", 1)\n",
    "settingChannel.connect(None, settingSnip)\n",
    "\n",
    "board.startDriver()"
   ]
  },
  {
   "cell_type": "markdown",
   "metadata": {},
   "source": [
    "## Execute network and send refractoryDelay value"
   ]
  },
  {
   "cell_type": "code",
   "execution_count": 7,
   "metadata": {},
   "outputs": [],
   "source": [
    "# set new refractoryDelay value for cx1, which will take effect at time step 180, which is controlled by settingSnip.\n",
    "# Please refer to setParams.c for more details.\n",
    "refractoryDelay = [15]\n",
    "settingChannel.write(1, refractoryDelay)\n",
    "\n",
    "board.run(250, aSync=True)\n",
    "\n",
    "board.finishRun()\n",
    "board.disconnect()"
   ]
  },
  {
   "cell_type": "markdown",
   "metadata": {},
   "source": [
    "## Visualize results"
   ]
  },
  {
   "cell_type": "code",
   "execution_count": 8,
   "metadata": {},
   "outputs": [
    {
     "data": {
      "image/png": "[encoded data removed]",
      "text/plain": [
       "<Figure size 1296x720 with 2 Axes>"
      ]
     },
     "metadata": {},
     "output_type": "display_data"
    }
   ],
   "source": [
    "fig = plt.figure(1, figsize=(18,10))\n",
    "# Plot compartment voltage\n",
    "ax0 = plt.subplot(2,1,1)\n",
    "vh = vProbes.plot()\n",
    "# Plot compartment spikes\n",
    "ax1 = plt.subplot(2,1,2)\n",
    "sh = sProbes.plot(colors=[vh[0].get_color(), vh[1].get_color()])\n",
    "ax1.set_xlim(ax0.get_xlim())\n",
    "ax0.legend(vh, ['cx0', 'cx1'])\n",
    "ax1.legend(vh, ['cx0', 'cx1'])\n",
    "plt.show()\n",
    "# cx0 and cx1 are initialized with the same parameter values, except for logicalCoreId. As can be seen below, the \n",
    "# compartment_voltage and spike for both cx0 and cx1 are the same from time 0. At time step 60, a new compartmentVoltageDecay\n",
    "# value is set (via settingSnip) for the whole cxGrp, the firing rate for both cx0 and cx1 gets decreased. At time step 150, \n",
    "# a new vThMant value is set (via settingSnip) for cxGrp, the firing rate for cx0 and cx1 changes again. At time step 180, \n",
    "# a new refractoryDelay value is set (via settingSnip) for cx1 only. As shown in the figure below, only cx1 changes the firing\n",
    "# pattern, while there is no more change for cx0."
   ]
  }
 ],
 "metadata": {
  "kernelspec": {
   "display_name": "Python 3",
   "language": "python",
   "name": "python3"
  },
  "language_info": {
   "codemirror_mode": {
    "name": "ipython",
    "version": 3
   },
   "file_extension": ".py",
   "mimetype": "text/x-python",
   "name": "python",
   "nbconvert_exporter": "python",
   "pygments_lexer": "ipython3",
   "version": "3.5.2"
  }
 },
 "nbformat": 4,
 "nbformat_minor": 2
}
