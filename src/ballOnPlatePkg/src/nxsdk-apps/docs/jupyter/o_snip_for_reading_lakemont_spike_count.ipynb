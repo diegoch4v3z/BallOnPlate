{
 "cells": [
  {
   "cell_type": "code",
   "execution_count": 1,
   "metadata": {},
   "outputs": [],
   "source": [
    "# INTEL CORPORATION CONFIDENTIAL AND PROPRIETARY\n",
    "# \n",
    "# Copyright © 2019-2021 Intel Corporation.\n",
    "# \n",
    "# This software and the related documents are Intel copyrighted\n",
    "# materials, and your use of them is governed by the express \n",
    "# license under which they were provided to you (License). Unless\n",
    "# the License provides otherwise, you may not use, modify, copy, \n",
    "# publish, distribute, disclose or transmit  this software or the\n",
    "# related documents without Intel's prior written permission.\n",
    "# \n",
    "# This software and the related documents are provided as is, with\n",
    "# no express or implied warranties, other than those that are \n",
    "# expressly stated in the License."
   ]
  },
  {
   "cell_type": "code",
   "execution_count": 2,
   "metadata": {},
   "outputs": [],
   "source": [
    "import os\n",
    "import nxsdk.api.n2a as nx\n",
    "import numpy as np\n",
    "import matplotlib.pyplot as plt\n",
    "from nxsdk.graph.monitor.probes import *\n",
    "\n",
    "net = nx.NxNet()"
   ]
  },
  {
   "cell_type": "markdown",
   "metadata": {},
   "source": [
    "# Read Lakemont Spike Count\n",
    "This tutorial illustrates the use of spike probes to capture the spikes count from lakemont via SNIP. Normally spike probe involves frequent interaction between host and Lakmont on chip, which could slow down the application while host keeps on reading out spike information from Lakemont then sending it back to spike probe. In situation when we want spikes count to be returned as soon as possible, we can use SNIP to read out spikes count register directly from Lakmont through a channel, rather than relying on the spike probe returned from host. \n",
    "## Create a network\n",
    "A simple network is created here, with one spike generator sending one spike at every time step to one compartment."
   ]
  },
  {
   "cell_type": "code",
   "execution_count": 3,
   "metadata": {},
   "outputs": [
    {
     "data": {
      "text/plain": [
       "<nxsdk.net.groups.ConnectionGroup at 0x7fdc97deb5c0>"
      ]
     },
     "execution_count": 3,
     "metadata": {},
     "output_type": "execute_result"
    }
   ],
   "source": [
    "# create a compartment prototype\n",
    "cxp = nx.CompartmentPrototype(biasMant=1000,\n",
    "                              biasExp=6,\n",
    "                              vThMant=10000,                              \n",
    "                              compartmentVoltageDecay=0,\n",
    "                              functionalState=nx.COMPARTMENT_FUNCTIONAL_STATE.IDLE)\n",
    "# Create a compartment from prototype cxp\n",
    "cx = net.createCompartment(cxp)\n",
    "\n",
    "# create a spike generator spikeGen that sends spike at each time step\n",
    "numPorts = 1\n",
    "spikeGen = net.createSpikeGenProcess(numPorts)\n",
    "spikeTimes0 = list(range(100))\n",
    "spikeGen.addSpikes([0], [spikeTimes0])\n",
    "\n",
    "# connect spikeGen with compartment cx\n",
    "connProto = nx.ConnectionPrototype(weight=200, signMode=nx.SYNAPSE_SIGN_MODE.MIXED)\n",
    "spikeGen.connect(cx, prototype=connProto)"
   ]
  },
  {
   "cell_type": "markdown",
   "metadata": {},
   "source": [
    "## Set up spike probe\n",
    "The spike probe sProbe is setup for compartment cx. With a setup spike probe, an output axon is created internally from cx to Lakmont spike counter register located at 0x20, and a SNIP is able to read out the spike count information directly from that register address. Probe counter register addresses are assigned incrementally, so if we create one more probe, its address at Lakemont would be 0x21.\n",
    "\n",
    "In this tutorial, the spike probe is not used to display, as this could slow down application. Here we set tStart = 10000000 (any large value) so that the probe infrastrucutre on host won't start to read until very late at tStart. Basically, we disable spike probe reading from the beginning. "
   ]
  },
  {
   "cell_type": "code",
   "execution_count": 4,
   "metadata": {},
   "outputs": [],
   "source": [
    "customSpikeProbeCond = SpikeProbeCondition(tStart=10000000)\n",
    "sProbe = cx.probe(nx.ProbeParameter.SPIKE, customSpikeProbeCond)"
   ]
  },
  {
   "cell_type": "markdown",
   "metadata": {},
   "source": [
    "## Compile network"
   ]
  },
  {
   "cell_type": "code",
   "execution_count": 5,
   "metadata": {},
   "outputs": [],
   "source": [
    "compiler = nx.N2Compiler()\n",
    "board = compiler.compile(net)"
   ]
  },
  {
   "cell_type": "markdown",
   "metadata": {},
   "source": [
    "## Configure SNIP and channels \n",
    "Since we basically disable spike probe reading at the beginning, there is no spike count information in spike probe itself. To get spike count information, we can setup a SNIP to read out spike count information directly from Lakemont register."
   ]
  },
  {
   "cell_type": "code",
   "execution_count": 6,
   "metadata": {},
   "outputs": [],
   "source": [
    "# Define directory where SNIP C-code is located\n",
    "includeDir = os.getcwd()\n",
    "\n",
    "# Create SNIP, define which code to execute and in which phase of the NxRuntime execution cycle\n",
    "runMgmtProcess = board.createProcess(\"runMgmt\",\n",
    "                                     includeDir=includeDir,\n",
    "                                     cFilePath = includeDir + \"/runmgmt.c\",\n",
    "                                     funcName = \"run_mgmt\",\n",
    "                                     guardName = \"do_run_mgmt\",\n",
    "                                     phase = \"mgmt\")\n",
    "                          \n",
    "# Create a channel named spikeCntr to get the spikes count information from Lakemont\n",
    "spikeCntrChannel = board.createChannel(b'nxspkcntr', \"int\", 100)\n",
    "\n",
    "# Connecting spikeCntr from runMgmtProcess to SuperHost which is receiving spike count in the channel\n",
    "spikeCntrChannel.connect(runMgmtProcess, None)"
   ]
  },
  {
   "cell_type": "markdown",
   "metadata": {},
   "source": [
    "## Execute network\n",
    "When the network runs, the SNIP will read the spike count value from Lakemont, then write it to spikeCntrChannel, which will be printed out on screen.  "
   ]
  },
  {
   "cell_type": "code",
   "execution_count": 7,
   "metadata": {},
   "outputs": [
    {
     "name": "stdout",
     "output_type": "stream",
     "text": [
      "INFO:DRV:  SLURM is being run in background\n",
      "INFO:DRV:  Connecting to 134.134.68.81:18861\n",
      "[(0, 0, 0, 0, 0, 0, 0, 0, 0, 1, 1, 1, 1, 1, 1, 1, 1, 1, 2, 2, 2, 2, 2, 2, 2, 2, 2, 3, 3, 3, 3, 3, 3, 3, 3, 3, 4, 4, 4, 4, 4, 4, 4, 4, 4, 5, 5, 5, 5, 5, 5, 5, 5, 5, 6, 6, 6, 6, 6, 6, 6, 6, 6, 7, 7, 7, 7, 7, 7, 7, 7, 7, 8, 8, 8, 8, 8, 8, 8, 8, 8, 9, 9, 9, 9, 9, 9, 9, 9, 9, 10, 10, 10, 10, 10, 10, 10, 10, 10, 11)]\n"
     ]
    }
   ],
   "source": [
    "board.run(100, aSync=True)\n",
    "\n",
    "spikeCntr = []\n",
    "spikeCntr.append(spikeCntrChannel.read(100))\n",
    "print(spikeCntr)\n",
    "\n",
    "board.finishRun()\n",
    "board.disconnect()"
   ]
  },
  {
   "cell_type": "markdown",
   "metadata": {},
   "source": [
    ".. code-links:: python clear"
   ]
  }
 ],
 "metadata": {
  "kernelspec": {
   "display_name": "Python 3",
   "language": "python",
   "name": "python3"
  },
  "language_info": {
   "codemirror_mode": {
    "name": "ipython",
    "version": 3
   },
   "file_extension": ".py",
   "mimetype": "text/x-python",
   "name": "python",
   "nbconvert_exporter": "python",
   "pygments_lexer": "ipython3",
   "version": "3.5.2"
  }
 },
 "nbformat": 4,
 "nbformat_minor": 2
}
